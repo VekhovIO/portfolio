{
  "cells": [
    {
      "cell_type": "markdown",
      "metadata": {
        "id": "view-in-github",
        "colab_type": "text"
      },
      "source": [
        "<a href=\"https://colab.research.google.com/github/VekhovIO/portfolio/blob/main/Diabetes.ipynb\" target=\"_parent\"><img src=\"https://colab.research.google.com/assets/colab-badge.svg\" alt=\"Open In Colab\"/></a>"
      ]
    },
    {
      "cell_type": "code",
      "execution_count": null,
      "metadata": {
        "colab": {
          "base_uri": "https://localhost:8080/"
        },
        "id": "wVWtQplhxG_T",
        "outputId": "7e67065d-4f52-42bb-b673-91364cc814e7"
      },
      "outputs": [
        {
          "output_type": "stream",
          "name": "stdout",
          "text": [
            "Mounted at /content/drive\n"
          ]
        }
      ],
      "source": [
        "from google.colab import drive\n",
        "drive.mount('/content/drive')"
      ]
    },
    {
      "cell_type": "code",
      "execution_count": null,
      "metadata": {
        "colab": {
          "base_uri": "https://localhost:8080/",
          "height": 226
        },
        "id": "jl20ZRFVyuA_",
        "outputId": "fc23aa97-6689-40f1-a631-d22d028c45ed"
      },
      "outputs": [
        {
          "output_type": "execute_result",
          "data": {
            "text/plain": [
              "   Pregnancies  Glucose  BloodPressure  SkinThickness  Insulin   BMI  \\\n",
              "0            6      148             72             35        0  33.6   \n",
              "1            1       85             66             29        0  26.6   \n",
              "2            8      183             64              0        0  23.3   \n",
              "3            1       89             66             23       94  28.1   \n",
              "4            0      137             40             35      168  43.1   \n",
              "\n",
              "   DiabetesPedigreeFunction  Age  Outcome  \n",
              "0                     0.627   50        1  \n",
              "1                     0.351   31        0  \n",
              "2                     0.672   32        1  \n",
              "3                     0.167   21        0  \n",
              "4                     2.288   33        1  "
            ],
            "text/html": [
              "\n",
              "  <div id=\"df-787dfa91-2d99-4b11-9e24-36a078c8bb85\" class=\"colab-df-container\">\n",
              "    <div>\n",
              "<style scoped>\n",
              "    .dataframe tbody tr th:only-of-type {\n",
              "        vertical-align: middle;\n",
              "    }\n",
              "\n",
              "    .dataframe tbody tr th {\n",
              "        vertical-align: top;\n",
              "    }\n",
              "\n",
              "    .dataframe thead th {\n",
              "        text-align: right;\n",
              "    }\n",
              "</style>\n",
              "<table border=\"1\" class=\"dataframe\">\n",
              "  <thead>\n",
              "    <tr style=\"text-align: right;\">\n",
              "      <th></th>\n",
              "      <th>Pregnancies</th>\n",
              "      <th>Glucose</th>\n",
              "      <th>BloodPressure</th>\n",
              "      <th>SkinThickness</th>\n",
              "      <th>Insulin</th>\n",
              "      <th>BMI</th>\n",
              "      <th>DiabetesPedigreeFunction</th>\n",
              "      <th>Age</th>\n",
              "      <th>Outcome</th>\n",
              "    </tr>\n",
              "  </thead>\n",
              "  <tbody>\n",
              "    <tr>\n",
              "      <th>0</th>\n",
              "      <td>6</td>\n",
              "      <td>148</td>\n",
              "      <td>72</td>\n",
              "      <td>35</td>\n",
              "      <td>0</td>\n",
              "      <td>33.6</td>\n",
              "      <td>0.627</td>\n",
              "      <td>50</td>\n",
              "      <td>1</td>\n",
              "    </tr>\n",
              "    <tr>\n",
              "      <th>1</th>\n",
              "      <td>1</td>\n",
              "      <td>85</td>\n",
              "      <td>66</td>\n",
              "      <td>29</td>\n",
              "      <td>0</td>\n",
              "      <td>26.6</td>\n",
              "      <td>0.351</td>\n",
              "      <td>31</td>\n",
              "      <td>0</td>\n",
              "    </tr>\n",
              "    <tr>\n",
              "      <th>2</th>\n",
              "      <td>8</td>\n",
              "      <td>183</td>\n",
              "      <td>64</td>\n",
              "      <td>0</td>\n",
              "      <td>0</td>\n",
              "      <td>23.3</td>\n",
              "      <td>0.672</td>\n",
              "      <td>32</td>\n",
              "      <td>1</td>\n",
              "    </tr>\n",
              "    <tr>\n",
              "      <th>3</th>\n",
              "      <td>1</td>\n",
              "      <td>89</td>\n",
              "      <td>66</td>\n",
              "      <td>23</td>\n",
              "      <td>94</td>\n",
              "      <td>28.1</td>\n",
              "      <td>0.167</td>\n",
              "      <td>21</td>\n",
              "      <td>0</td>\n",
              "    </tr>\n",
              "    <tr>\n",
              "      <th>4</th>\n",
              "      <td>0</td>\n",
              "      <td>137</td>\n",
              "      <td>40</td>\n",
              "      <td>35</td>\n",
              "      <td>168</td>\n",
              "      <td>43.1</td>\n",
              "      <td>2.288</td>\n",
              "      <td>33</td>\n",
              "      <td>1</td>\n",
              "    </tr>\n",
              "  </tbody>\n",
              "</table>\n",
              "</div>\n",
              "    <div class=\"colab-df-buttons\">\n",
              "\n",
              "  <div class=\"colab-df-container\">\n",
              "    <button class=\"colab-df-convert\" onclick=\"convertToInteractive('df-787dfa91-2d99-4b11-9e24-36a078c8bb85')\"\n",
              "            title=\"Convert this dataframe to an interactive table.\"\n",
              "            style=\"display:none;\">\n",
              "\n",
              "  <svg xmlns=\"http://www.w3.org/2000/svg\" height=\"24px\" viewBox=\"0 -960 960 960\">\n",
              "    <path d=\"M120-120v-720h720v720H120Zm60-500h600v-160H180v160Zm220 220h160v-160H400v160Zm0 220h160v-160H400v160ZM180-400h160v-160H180v160Zm440 0h160v-160H620v160ZM180-180h160v-160H180v160Zm440 0h160v-160H620v160Z\"/>\n",
              "  </svg>\n",
              "    </button>\n",
              "\n",
              "  <style>\n",
              "    .colab-df-container {\n",
              "      display:flex;\n",
              "      gap: 12px;\n",
              "    }\n",
              "\n",
              "    .colab-df-convert {\n",
              "      background-color: #E8F0FE;\n",
              "      border: none;\n",
              "      border-radius: 50%;\n",
              "      cursor: pointer;\n",
              "      display: none;\n",
              "      fill: #1967D2;\n",
              "      height: 32px;\n",
              "      padding: 0 0 0 0;\n",
              "      width: 32px;\n",
              "    }\n",
              "\n",
              "    .colab-df-convert:hover {\n",
              "      background-color: #E2EBFA;\n",
              "      box-shadow: 0px 1px 2px rgba(60, 64, 67, 0.3), 0px 1px 3px 1px rgba(60, 64, 67, 0.15);\n",
              "      fill: #174EA6;\n",
              "    }\n",
              "\n",
              "    .colab-df-buttons div {\n",
              "      margin-bottom: 4px;\n",
              "    }\n",
              "\n",
              "    [theme=dark] .colab-df-convert {\n",
              "      background-color: #3B4455;\n",
              "      fill: #D2E3FC;\n",
              "    }\n",
              "\n",
              "    [theme=dark] .colab-df-convert:hover {\n",
              "      background-color: #434B5C;\n",
              "      box-shadow: 0px 1px 3px 1px rgba(0, 0, 0, 0.15);\n",
              "      filter: drop-shadow(0px 1px 2px rgba(0, 0, 0, 0.3));\n",
              "      fill: #FFFFFF;\n",
              "    }\n",
              "  </style>\n",
              "\n",
              "    <script>\n",
              "      const buttonEl =\n",
              "        document.querySelector('#df-787dfa91-2d99-4b11-9e24-36a078c8bb85 button.colab-df-convert');\n",
              "      buttonEl.style.display =\n",
              "        google.colab.kernel.accessAllowed ? 'block' : 'none';\n",
              "\n",
              "      async function convertToInteractive(key) {\n",
              "        const element = document.querySelector('#df-787dfa91-2d99-4b11-9e24-36a078c8bb85');\n",
              "        const dataTable =\n",
              "          await google.colab.kernel.invokeFunction('convertToInteractive',\n",
              "                                                    [key], {});\n",
              "        if (!dataTable) return;\n",
              "\n",
              "        const docLinkHtml = 'Like what you see? Visit the ' +\n",
              "          '<a target=\"_blank\" href=https://colab.research.google.com/notebooks/data_table.ipynb>data table notebook</a>'\n",
              "          + ' to learn more about interactive tables.';\n",
              "        element.innerHTML = '';\n",
              "        dataTable['output_type'] = 'display_data';\n",
              "        await google.colab.output.renderOutput(dataTable, element);\n",
              "        const docLink = document.createElement('div');\n",
              "        docLink.innerHTML = docLinkHtml;\n",
              "        element.appendChild(docLink);\n",
              "      }\n",
              "    </script>\n",
              "  </div>\n",
              "\n",
              "\n",
              "<div id=\"df-8bf10a6d-c286-4cff-81c2-33989951d126\">\n",
              "  <button class=\"colab-df-quickchart\" onclick=\"quickchart('df-8bf10a6d-c286-4cff-81c2-33989951d126')\"\n",
              "            title=\"Suggest charts\"\n",
              "            style=\"display:none;\">\n",
              "\n",
              "<svg xmlns=\"http://www.w3.org/2000/svg\" height=\"24px\"viewBox=\"0 0 24 24\"\n",
              "     width=\"24px\">\n",
              "    <g>\n",
              "        <path d=\"M19 3H5c-1.1 0-2 .9-2 2v14c0 1.1.9 2 2 2h14c1.1 0 2-.9 2-2V5c0-1.1-.9-2-2-2zM9 17H7v-7h2v7zm4 0h-2V7h2v10zm4 0h-2v-4h2v4z\"/>\n",
              "    </g>\n",
              "</svg>\n",
              "  </button>\n",
              "\n",
              "<style>\n",
              "  .colab-df-quickchart {\n",
              "      --bg-color: #E8F0FE;\n",
              "      --fill-color: #1967D2;\n",
              "      --hover-bg-color: #E2EBFA;\n",
              "      --hover-fill-color: #174EA6;\n",
              "      --disabled-fill-color: #AAA;\n",
              "      --disabled-bg-color: #DDD;\n",
              "  }\n",
              "\n",
              "  [theme=dark] .colab-df-quickchart {\n",
              "      --bg-color: #3B4455;\n",
              "      --fill-color: #D2E3FC;\n",
              "      --hover-bg-color: #434B5C;\n",
              "      --hover-fill-color: #FFFFFF;\n",
              "      --disabled-bg-color: #3B4455;\n",
              "      --disabled-fill-color: #666;\n",
              "  }\n",
              "\n",
              "  .colab-df-quickchart {\n",
              "    background-color: var(--bg-color);\n",
              "    border: none;\n",
              "    border-radius: 50%;\n",
              "    cursor: pointer;\n",
              "    display: none;\n",
              "    fill: var(--fill-color);\n",
              "    height: 32px;\n",
              "    padding: 0;\n",
              "    width: 32px;\n",
              "  }\n",
              "\n",
              "  .colab-df-quickchart:hover {\n",
              "    background-color: var(--hover-bg-color);\n",
              "    box-shadow: 0 1px 2px rgba(60, 64, 67, 0.3), 0 1px 3px 1px rgba(60, 64, 67, 0.15);\n",
              "    fill: var(--button-hover-fill-color);\n",
              "  }\n",
              "\n",
              "  .colab-df-quickchart-complete:disabled,\n",
              "  .colab-df-quickchart-complete:disabled:hover {\n",
              "    background-color: var(--disabled-bg-color);\n",
              "    fill: var(--disabled-fill-color);\n",
              "    box-shadow: none;\n",
              "  }\n",
              "\n",
              "  .colab-df-spinner {\n",
              "    border: 2px solid var(--fill-color);\n",
              "    border-color: transparent;\n",
              "    border-bottom-color: var(--fill-color);\n",
              "    animation:\n",
              "      spin 1s steps(1) infinite;\n",
              "  }\n",
              "\n",
              "  @keyframes spin {\n",
              "    0% {\n",
              "      border-color: transparent;\n",
              "      border-bottom-color: var(--fill-color);\n",
              "      border-left-color: var(--fill-color);\n",
              "    }\n",
              "    20% {\n",
              "      border-color: transparent;\n",
              "      border-left-color: var(--fill-color);\n",
              "      border-top-color: var(--fill-color);\n",
              "    }\n",
              "    30% {\n",
              "      border-color: transparent;\n",
              "      border-left-color: var(--fill-color);\n",
              "      border-top-color: var(--fill-color);\n",
              "      border-right-color: var(--fill-color);\n",
              "    }\n",
              "    40% {\n",
              "      border-color: transparent;\n",
              "      border-right-color: var(--fill-color);\n",
              "      border-top-color: var(--fill-color);\n",
              "    }\n",
              "    60% {\n",
              "      border-color: transparent;\n",
              "      border-right-color: var(--fill-color);\n",
              "    }\n",
              "    80% {\n",
              "      border-color: transparent;\n",
              "      border-right-color: var(--fill-color);\n",
              "      border-bottom-color: var(--fill-color);\n",
              "    }\n",
              "    90% {\n",
              "      border-color: transparent;\n",
              "      border-bottom-color: var(--fill-color);\n",
              "    }\n",
              "  }\n",
              "</style>\n",
              "\n",
              "  <script>\n",
              "    async function quickchart(key) {\n",
              "      const quickchartButtonEl =\n",
              "        document.querySelector('#' + key + ' button');\n",
              "      quickchartButtonEl.disabled = true;  // To prevent multiple clicks.\n",
              "      quickchartButtonEl.classList.add('colab-df-spinner');\n",
              "      try {\n",
              "        const charts = await google.colab.kernel.invokeFunction(\n",
              "            'suggestCharts', [key], {});\n",
              "      } catch (error) {\n",
              "        console.error('Error during call to suggestCharts:', error);\n",
              "      }\n",
              "      quickchartButtonEl.classList.remove('colab-df-spinner');\n",
              "      quickchartButtonEl.classList.add('colab-df-quickchart-complete');\n",
              "    }\n",
              "    (() => {\n",
              "      let quickchartButtonEl =\n",
              "        document.querySelector('#df-8bf10a6d-c286-4cff-81c2-33989951d126 button');\n",
              "      quickchartButtonEl.style.display =\n",
              "        google.colab.kernel.accessAllowed ? 'block' : 'none';\n",
              "    })();\n",
              "  </script>\n",
              "</div>\n",
              "    </div>\n",
              "  </div>\n"
            ],
            "application/vnd.google.colaboratory.intrinsic+json": {
              "type": "dataframe",
              "variable_name": "df",
              "summary": "{\n  \"name\": \"df\",\n  \"rows\": 768,\n  \"fields\": [\n    {\n      \"column\": \"Pregnancies\",\n      \"properties\": {\n        \"dtype\": \"number\",\n        \"std\": 3,\n        \"min\": 0,\n        \"max\": 17,\n        \"num_unique_values\": 17,\n        \"samples\": [\n          6,\n          1,\n          3\n        ],\n        \"semantic_type\": \"\",\n        \"description\": \"\"\n      }\n    },\n    {\n      \"column\": \"Glucose\",\n      \"properties\": {\n        \"dtype\": \"number\",\n        \"std\": 31,\n        \"min\": 0,\n        \"max\": 199,\n        \"num_unique_values\": 136,\n        \"samples\": [\n          151,\n          101,\n          112\n        ],\n        \"semantic_type\": \"\",\n        \"description\": \"\"\n      }\n    },\n    {\n      \"column\": \"BloodPressure\",\n      \"properties\": {\n        \"dtype\": \"number\",\n        \"std\": 19,\n        \"min\": 0,\n        \"max\": 122,\n        \"num_unique_values\": 47,\n        \"samples\": [\n          86,\n          46,\n          85\n        ],\n        \"semantic_type\": \"\",\n        \"description\": \"\"\n      }\n    },\n    {\n      \"column\": \"SkinThickness\",\n      \"properties\": {\n        \"dtype\": \"number\",\n        \"std\": 15,\n        \"min\": 0,\n        \"max\": 99,\n        \"num_unique_values\": 51,\n        \"samples\": [\n          7,\n          12,\n          48\n        ],\n        \"semantic_type\": \"\",\n        \"description\": \"\"\n      }\n    },\n    {\n      \"column\": \"Insulin\",\n      \"properties\": {\n        \"dtype\": \"number\",\n        \"std\": 115,\n        \"min\": 0,\n        \"max\": 846,\n        \"num_unique_values\": 186,\n        \"samples\": [\n          52,\n          41,\n          183\n        ],\n        \"semantic_type\": \"\",\n        \"description\": \"\"\n      }\n    },\n    {\n      \"column\": \"BMI\",\n      \"properties\": {\n        \"dtype\": \"number\",\n        \"std\": 7.884160320375446,\n        \"min\": 0.0,\n        \"max\": 67.1,\n        \"num_unique_values\": 248,\n        \"samples\": [\n          19.9,\n          31.0,\n          38.1\n        ],\n        \"semantic_type\": \"\",\n        \"description\": \"\"\n      }\n    },\n    {\n      \"column\": \"DiabetesPedigreeFunction\",\n      \"properties\": {\n        \"dtype\": \"number\",\n        \"std\": 0.3313285950127749,\n        \"min\": 0.078,\n        \"max\": 2.42,\n        \"num_unique_values\": 517,\n        \"samples\": [\n          1.731,\n          0.426,\n          0.138\n        ],\n        \"semantic_type\": \"\",\n        \"description\": \"\"\n      }\n    },\n    {\n      \"column\": \"Age\",\n      \"properties\": {\n        \"dtype\": \"number\",\n        \"std\": 11,\n        \"min\": 21,\n        \"max\": 81,\n        \"num_unique_values\": 52,\n        \"samples\": [\n          60,\n          47,\n          72\n        ],\n        \"semantic_type\": \"\",\n        \"description\": \"\"\n      }\n    },\n    {\n      \"column\": \"Outcome\",\n      \"properties\": {\n        \"dtype\": \"number\",\n        \"std\": 0,\n        \"min\": 0,\n        \"max\": 1,\n        \"num_unique_values\": 2,\n        \"samples\": [\n          0,\n          1\n        ],\n        \"semantic_type\": \"\",\n        \"description\": \"\"\n      }\n    }\n  ]\n}"
            }
          },
          "metadata": {},
          "execution_count": 2
        }
      ],
      "source": [
        "import pandas as pd\n",
        "\n",
        "df = pd.read_csv('/content/drive/MyDrive/diabetes.csv') #подключили датасет через гугл диск\n",
        "##df = pd.read_csv('datasets/diabetes.csv', low_memory=False)\n",
        "df.head()"
      ]
    },
    {
      "cell_type": "markdown",
      "source": [
        "Датасет содержит информацию о пациентах, включая различные медицинские показатели, такие как месяц беременности (Pregnancies), уровень глюкозы в крови (Glucose), артериальное давление (BloodPressure), толщина кожи (SkinThickness), уровень инсулина в крови (Insulin), индекс массы тела (BMI), семейная предрасположенность к диабету (DiabetesPedigreeFunction), возраст (Age) и наличие диабета (Outcome)."
      ],
      "metadata": {
        "id": "LI0cniK_lXyw"
      }
    },
    {
      "cell_type": "code",
      "execution_count": null,
      "metadata": {
        "colab": {
          "base_uri": "https://localhost:8080/",
          "height": 163
        },
        "id": "CngCtI0HzJPJ",
        "outputId": "243a9060-1725-4954-ff77-83631a868def"
      },
      "outputs": [
        {
          "output_type": "execute_result",
          "data": {
            "text/plain": [
              "         Pregnancies     Glucose  BloodPressure  SkinThickness     Insulin  \\\n",
              "Outcome                                                                      \n",
              "0           3.298000  109.980000      68.184000      19.664000   68.792000   \n",
              "1           4.865672  141.257463      70.824627      22.164179  100.335821   \n",
              "\n",
              "               BMI  DiabetesPedigreeFunction        Age  \n",
              "Outcome                                                  \n",
              "0        30.304200                  0.429734  31.190000  \n",
              "1        35.142537                  0.550500  37.067164  "
            ],
            "text/html": [
              "\n",
              "  <div id=\"df-1a179f48-69c1-4141-b148-41636f5e24b0\" class=\"colab-df-container\">\n",
              "    <div>\n",
              "<style scoped>\n",
              "    .dataframe tbody tr th:only-of-type {\n",
              "        vertical-align: middle;\n",
              "    }\n",
              "\n",
              "    .dataframe tbody tr th {\n",
              "        vertical-align: top;\n",
              "    }\n",
              "\n",
              "    .dataframe thead th {\n",
              "        text-align: right;\n",
              "    }\n",
              "</style>\n",
              "<table border=\"1\" class=\"dataframe\">\n",
              "  <thead>\n",
              "    <tr style=\"text-align: right;\">\n",
              "      <th></th>\n",
              "      <th>Pregnancies</th>\n",
              "      <th>Glucose</th>\n",
              "      <th>BloodPressure</th>\n",
              "      <th>SkinThickness</th>\n",
              "      <th>Insulin</th>\n",
              "      <th>BMI</th>\n",
              "      <th>DiabetesPedigreeFunction</th>\n",
              "      <th>Age</th>\n",
              "    </tr>\n",
              "    <tr>\n",
              "      <th>Outcome</th>\n",
              "      <th></th>\n",
              "      <th></th>\n",
              "      <th></th>\n",
              "      <th></th>\n",
              "      <th></th>\n",
              "      <th></th>\n",
              "      <th></th>\n",
              "      <th></th>\n",
              "    </tr>\n",
              "  </thead>\n",
              "  <tbody>\n",
              "    <tr>\n",
              "      <th>0</th>\n",
              "      <td>3.298000</td>\n",
              "      <td>109.980000</td>\n",
              "      <td>68.184000</td>\n",
              "      <td>19.664000</td>\n",
              "      <td>68.792000</td>\n",
              "      <td>30.304200</td>\n",
              "      <td>0.429734</td>\n",
              "      <td>31.190000</td>\n",
              "    </tr>\n",
              "    <tr>\n",
              "      <th>1</th>\n",
              "      <td>4.865672</td>\n",
              "      <td>141.257463</td>\n",
              "      <td>70.824627</td>\n",
              "      <td>22.164179</td>\n",
              "      <td>100.335821</td>\n",
              "      <td>35.142537</td>\n",
              "      <td>0.550500</td>\n",
              "      <td>37.067164</td>\n",
              "    </tr>\n",
              "  </tbody>\n",
              "</table>\n",
              "</div>\n",
              "    <div class=\"colab-df-buttons\">\n",
              "\n",
              "  <div class=\"colab-df-container\">\n",
              "    <button class=\"colab-df-convert\" onclick=\"convertToInteractive('df-1a179f48-69c1-4141-b148-41636f5e24b0')\"\n",
              "            title=\"Convert this dataframe to an interactive table.\"\n",
              "            style=\"display:none;\">\n",
              "\n",
              "  <svg xmlns=\"http://www.w3.org/2000/svg\" height=\"24px\" viewBox=\"0 -960 960 960\">\n",
              "    <path d=\"M120-120v-720h720v720H120Zm60-500h600v-160H180v160Zm220 220h160v-160H400v160Zm0 220h160v-160H400v160ZM180-400h160v-160H180v160Zm440 0h160v-160H620v160ZM180-180h160v-160H180v160Zm440 0h160v-160H620v160Z\"/>\n",
              "  </svg>\n",
              "    </button>\n",
              "\n",
              "  <style>\n",
              "    .colab-df-container {\n",
              "      display:flex;\n",
              "      gap: 12px;\n",
              "    }\n",
              "\n",
              "    .colab-df-convert {\n",
              "      background-color: #E8F0FE;\n",
              "      border: none;\n",
              "      border-radius: 50%;\n",
              "      cursor: pointer;\n",
              "      display: none;\n",
              "      fill: #1967D2;\n",
              "      height: 32px;\n",
              "      padding: 0 0 0 0;\n",
              "      width: 32px;\n",
              "    }\n",
              "\n",
              "    .colab-df-convert:hover {\n",
              "      background-color: #E2EBFA;\n",
              "      box-shadow: 0px 1px 2px rgba(60, 64, 67, 0.3), 0px 1px 3px 1px rgba(60, 64, 67, 0.15);\n",
              "      fill: #174EA6;\n",
              "    }\n",
              "\n",
              "    .colab-df-buttons div {\n",
              "      margin-bottom: 4px;\n",
              "    }\n",
              "\n",
              "    [theme=dark] .colab-df-convert {\n",
              "      background-color: #3B4455;\n",
              "      fill: #D2E3FC;\n",
              "    }\n",
              "\n",
              "    [theme=dark] .colab-df-convert:hover {\n",
              "      background-color: #434B5C;\n",
              "      box-shadow: 0px 1px 3px 1px rgba(0, 0, 0, 0.15);\n",
              "      filter: drop-shadow(0px 1px 2px rgba(0, 0, 0, 0.3));\n",
              "      fill: #FFFFFF;\n",
              "    }\n",
              "  </style>\n",
              "\n",
              "    <script>\n",
              "      const buttonEl =\n",
              "        document.querySelector('#df-1a179f48-69c1-4141-b148-41636f5e24b0 button.colab-df-convert');\n",
              "      buttonEl.style.display =\n",
              "        google.colab.kernel.accessAllowed ? 'block' : 'none';\n",
              "\n",
              "      async function convertToInteractive(key) {\n",
              "        const element = document.querySelector('#df-1a179f48-69c1-4141-b148-41636f5e24b0');\n",
              "        const dataTable =\n",
              "          await google.colab.kernel.invokeFunction('convertToInteractive',\n",
              "                                                    [key], {});\n",
              "        if (!dataTable) return;\n",
              "\n",
              "        const docLinkHtml = 'Like what you see? Visit the ' +\n",
              "          '<a target=\"_blank\" href=https://colab.research.google.com/notebooks/data_table.ipynb>data table notebook</a>'\n",
              "          + ' to learn more about interactive tables.';\n",
              "        element.innerHTML = '';\n",
              "        dataTable['output_type'] = 'display_data';\n",
              "        await google.colab.output.renderOutput(dataTable, element);\n",
              "        const docLink = document.createElement('div');\n",
              "        docLink.innerHTML = docLinkHtml;\n",
              "        element.appendChild(docLink);\n",
              "      }\n",
              "    </script>\n",
              "  </div>\n",
              "\n",
              "\n",
              "<div id=\"df-e789601d-daca-41bb-9d04-bac7451014b0\">\n",
              "  <button class=\"colab-df-quickchart\" onclick=\"quickchart('df-e789601d-daca-41bb-9d04-bac7451014b0')\"\n",
              "            title=\"Suggest charts\"\n",
              "            style=\"display:none;\">\n",
              "\n",
              "<svg xmlns=\"http://www.w3.org/2000/svg\" height=\"24px\"viewBox=\"0 0 24 24\"\n",
              "     width=\"24px\">\n",
              "    <g>\n",
              "        <path d=\"M19 3H5c-1.1 0-2 .9-2 2v14c0 1.1.9 2 2 2h14c1.1 0 2-.9 2-2V5c0-1.1-.9-2-2-2zM9 17H7v-7h2v7zm4 0h-2V7h2v10zm4 0h-2v-4h2v4z\"/>\n",
              "    </g>\n",
              "</svg>\n",
              "  </button>\n",
              "\n",
              "<style>\n",
              "  .colab-df-quickchart {\n",
              "      --bg-color: #E8F0FE;\n",
              "      --fill-color: #1967D2;\n",
              "      --hover-bg-color: #E2EBFA;\n",
              "      --hover-fill-color: #174EA6;\n",
              "      --disabled-fill-color: #AAA;\n",
              "      --disabled-bg-color: #DDD;\n",
              "  }\n",
              "\n",
              "  [theme=dark] .colab-df-quickchart {\n",
              "      --bg-color: #3B4455;\n",
              "      --fill-color: #D2E3FC;\n",
              "      --hover-bg-color: #434B5C;\n",
              "      --hover-fill-color: #FFFFFF;\n",
              "      --disabled-bg-color: #3B4455;\n",
              "      --disabled-fill-color: #666;\n",
              "  }\n",
              "\n",
              "  .colab-df-quickchart {\n",
              "    background-color: var(--bg-color);\n",
              "    border: none;\n",
              "    border-radius: 50%;\n",
              "    cursor: pointer;\n",
              "    display: none;\n",
              "    fill: var(--fill-color);\n",
              "    height: 32px;\n",
              "    padding: 0;\n",
              "    width: 32px;\n",
              "  }\n",
              "\n",
              "  .colab-df-quickchart:hover {\n",
              "    background-color: var(--hover-bg-color);\n",
              "    box-shadow: 0 1px 2px rgba(60, 64, 67, 0.3), 0 1px 3px 1px rgba(60, 64, 67, 0.15);\n",
              "    fill: var(--button-hover-fill-color);\n",
              "  }\n",
              "\n",
              "  .colab-df-quickchart-complete:disabled,\n",
              "  .colab-df-quickchart-complete:disabled:hover {\n",
              "    background-color: var(--disabled-bg-color);\n",
              "    fill: var(--disabled-fill-color);\n",
              "    box-shadow: none;\n",
              "  }\n",
              "\n",
              "  .colab-df-spinner {\n",
              "    border: 2px solid var(--fill-color);\n",
              "    border-color: transparent;\n",
              "    border-bottom-color: var(--fill-color);\n",
              "    animation:\n",
              "      spin 1s steps(1) infinite;\n",
              "  }\n",
              "\n",
              "  @keyframes spin {\n",
              "    0% {\n",
              "      border-color: transparent;\n",
              "      border-bottom-color: var(--fill-color);\n",
              "      border-left-color: var(--fill-color);\n",
              "    }\n",
              "    20% {\n",
              "      border-color: transparent;\n",
              "      border-left-color: var(--fill-color);\n",
              "      border-top-color: var(--fill-color);\n",
              "    }\n",
              "    30% {\n",
              "      border-color: transparent;\n",
              "      border-left-color: var(--fill-color);\n",
              "      border-top-color: var(--fill-color);\n",
              "      border-right-color: var(--fill-color);\n",
              "    }\n",
              "    40% {\n",
              "      border-color: transparent;\n",
              "      border-right-color: var(--fill-color);\n",
              "      border-top-color: var(--fill-color);\n",
              "    }\n",
              "    60% {\n",
              "      border-color: transparent;\n",
              "      border-right-color: var(--fill-color);\n",
              "    }\n",
              "    80% {\n",
              "      border-color: transparent;\n",
              "      border-right-color: var(--fill-color);\n",
              "      border-bottom-color: var(--fill-color);\n",
              "    }\n",
              "    90% {\n",
              "      border-color: transparent;\n",
              "      border-bottom-color: var(--fill-color);\n",
              "    }\n",
              "  }\n",
              "</style>\n",
              "\n",
              "  <script>\n",
              "    async function quickchart(key) {\n",
              "      const quickchartButtonEl =\n",
              "        document.querySelector('#' + key + ' button');\n",
              "      quickchartButtonEl.disabled = true;  // To prevent multiple clicks.\n",
              "      quickchartButtonEl.classList.add('colab-df-spinner');\n",
              "      try {\n",
              "        const charts = await google.colab.kernel.invokeFunction(\n",
              "            'suggestCharts', [key], {});\n",
              "      } catch (error) {\n",
              "        console.error('Error during call to suggestCharts:', error);\n",
              "      }\n",
              "      quickchartButtonEl.classList.remove('colab-df-spinner');\n",
              "      quickchartButtonEl.classList.add('colab-df-quickchart-complete');\n",
              "    }\n",
              "    (() => {\n",
              "      let quickchartButtonEl =\n",
              "        document.querySelector('#df-e789601d-daca-41bb-9d04-bac7451014b0 button');\n",
              "      quickchartButtonEl.style.display =\n",
              "        google.colab.kernel.accessAllowed ? 'block' : 'none';\n",
              "    })();\n",
              "  </script>\n",
              "</div>\n",
              "    </div>\n",
              "  </div>\n"
            ],
            "application/vnd.google.colaboratory.intrinsic+json": {
              "type": "dataframe",
              "summary": "{\n  \"name\": \"teachdata\",\n  \"rows\": 2,\n  \"fields\": [\n    {\n      \"column\": \"Outcome\",\n      \"properties\": {\n        \"dtype\": \"number\",\n        \"std\": 0,\n        \"min\": 0,\n        \"max\": 1,\n        \"num_unique_values\": 2,\n        \"samples\": [\n          1,\n          0\n        ],\n        \"semantic_type\": \"\",\n        \"description\": \"\"\n      }\n    },\n    {\n      \"column\": \"Pregnancies\",\n      \"properties\": {\n        \"dtype\": \"number\",\n        \"std\": 1.108511248584296,\n        \"min\": 3.298,\n        \"max\": 4.865671641791045,\n        \"num_unique_values\": 2,\n        \"samples\": [\n          4.865671641791045,\n          3.298\n        ],\n        \"semantic_type\": \"\",\n        \"description\": \"\"\n      }\n    },\n    {\n      \"column\": \"Glucose\",\n      \"properties\": {\n        \"dtype\": \"number\",\n        \"std\": 22.116505963980842,\n        \"min\": 109.98,\n        \"max\": 141.25746268656715,\n        \"num_unique_values\": 2,\n        \"samples\": [\n          141.25746268656715,\n          109.98\n        ],\n        \"semantic_type\": \"\",\n        \"description\": \"\"\n      }\n    },\n    {\n      \"column\": \"BloodPressure\",\n      \"properties\": {\n        \"dtype\": \"number\",\n        \"std\": 1.8672051632998017,\n        \"min\": 68.184,\n        \"max\": 70.82462686567165,\n        \"num_unique_values\": 2,\n        \"samples\": [\n          70.82462686567165,\n          68.184\n        ],\n        \"semantic_type\": \"\",\n        \"description\": \"\"\n      }\n    },\n    {\n      \"column\": \"SkinThickness\",\n      \"properties\": {\n        \"dtype\": \"number\",\n        \"std\": 1.7678935989570275,\n        \"min\": 19.664,\n        \"max\": 22.16417910447761,\n        \"num_unique_values\": 2,\n        \"samples\": [\n          22.16417910447761,\n          19.664\n        ],\n        \"semantic_type\": \"\",\n        \"description\": \"\"\n      }\n    },\n    {\n      \"column\": \"Insulin\",\n      \"properties\": {\n        \"dtype\": \"number\",\n        \"std\": 22.304849659757796,\n        \"min\": 68.792,\n        \"max\": 100.33582089552239,\n        \"num_unique_values\": 2,\n        \"samples\": [\n          100.33582089552239,\n          68.792\n        ],\n        \"semantic_type\": \"\",\n        \"description\": \"\"\n      }\n    },\n    {\n      \"column\": \"BMI\",\n      \"properties\": {\n        \"dtype\": \"number\",\n        \"std\": 3.4212211239962618,\n        \"min\": 30.3042,\n        \"max\": 35.14253731343284,\n        \"num_unique_values\": 2,\n        \"samples\": [\n          35.14253731343284,\n          30.3042\n        ],\n        \"semantic_type\": \"\",\n        \"description\": \"\"\n      }\n    },\n    {\n      \"column\": \"DiabetesPedigreeFunction\",\n      \"properties\": {\n        \"dtype\": \"number\",\n        \"std\": 0.08539445753677459,\n        \"min\": 0.429734,\n        \"max\": 0.5505,\n        \"num_unique_values\": 2,\n        \"samples\": [\n          0.5505,\n          0.429734\n        ],\n        \"semantic_type\": \"\",\n        \"description\": \"\"\n      }\n    },\n    {\n      \"column\": \"Age\",\n      \"properties\": {\n        \"dtype\": \"number\",\n        \"std\": 4.155782645191446,\n        \"min\": 31.19,\n        \"max\": 37.06716417910448,\n        \"num_unique_values\": 2,\n        \"samples\": [\n          37.06716417910448,\n          31.19\n        ],\n        \"semantic_type\": \"\",\n        \"description\": \"\"\n      }\n    }\n  ]\n}"
            }
          },
          "metadata": {},
          "execution_count": 3
        }
      ],
      "source": [
        "import random\n",
        "import matplotlib.pyplot as plt\n",
        "import scipy.stats as stats\n",
        "import numpy as np\n",
        "import seaborn as sns\n",
        "\n",
        "data = df.loc[~df[['Pregnancies', 'Glucose', 'BloodPressure', 'SkinThickness', 'Insulin',\n",
        "       'BMI', 'DiabetesPedigreeFunction', 'Age']].isna().any(axis=1)]\n",
        "\n",
        "teachdata = df.loc[~df[['Pregnancies', 'Glucose', 'BloodPressure', 'SkinThickness', 'Insulin',\n",
        "       'BMI', 'DiabetesPedigreeFunction', 'Age', 'Outcome']].isna().any(axis=1)]\n",
        "\n",
        "teachdata.groupby('Outcome').mean()"
      ]
    },
    {
      "cell_type": "markdown",
      "metadata": {
        "id": "xDXtwr-W1z22"
      },
      "source": [
        "##Первичные наблюдения из средних значений:\n",
        "1)Уровень глюкозы в крови диабетиков сильно выше, чем у здоровых людей\n",
        "\n",
        "2)Беременность довольно сильно повышает риск появления диабета\n",
        "\n",
        "3)С возрастом вероятность заболеть диабетом растет\n",
        "\n",
        "4)Чем больше вес человека, тем больше риск заболеть диабетом\n",
        "\n",
        "5)Так называемая DPF, отвечающая за генетическую предрасположенность способна предсказать риск заболеть диабетом, но не является точным индикатором"
      ]
    },
    {
      "cell_type": "code",
      "execution_count": null,
      "metadata": {
        "colab": {
          "base_uri": "https://localhost:8080/",
          "height": 556
        },
        "id": "Zdy4g9zr0VnO",
        "outputId": "b4b87e7c-f5ee-4233-a256-28fb19089408"
      },
      "outputs": [
        {
          "output_type": "stream",
          "name": "stderr",
          "text": [
            "<ipython-input-10-b1fc29b3b2df>:2: FutureWarning: \n",
            "\n",
            "Passing `palette` without assigning `hue` is deprecated and will be removed in v0.14.0. Assign the `x` variable to `hue` and set `legend=False` for the same effect.\n",
            "\n",
            "  sns.countplot(x='Outcome', data=teachdata, palette = 'hls')\n"
          ]
        },
        {
          "output_type": "display_data",
          "data": {
            "text/plain": [
              "<Figure size 640x480 with 1 Axes>"
            ],
            "image/png": "[encoded data removed]"
          },
          "metadata": {}
        }
      ],
      "source": [
        "outc = teachdata['Outcome'].value_counts()\n",
        "sns.countplot(x='Outcome', data=teachdata, palette = 'hls')\n",
        "plt.show()"
      ]
    },
    {
      "cell_type": "markdown",
      "metadata": {
        "id": "94OQbS0H1z25"
      },
      "source": [
        "Классы здоровых и болеющих диабетом людей отличаются в 2 раза, что не критично.\n",
        "Можно считать классы сбалансированными(потом проверим это ещё раз и подтвердим)."
      ]
    },
    {
      "cell_type": "code",
      "execution_count": null,
      "metadata": {
        "colab": {
          "base_uri": "https://localhost:8080/",
          "height": 902
        },
        "id": "lHfeYr2s1z26",
        "outputId": "0bf31085-6f1c-4d7a-82ba-f5202e7b0a53"
      },
      "outputs": [
        {
          "output_type": "execute_result",
          "data": {
            "text/plain": [
              "<Axes: ylabel='Density'>"
            ]
          },
          "metadata": {},
          "execution_count": 11
        },
        {
          "output_type": "display_data",
          "data": {
            "text/plain": [
              "<Figure size 640x480 with 1 Axes>"
            ],
            "image/png": "[encoded data removed]"
          },
          "metadata": {}
        },
        {
          "output_type": "display_data",
          "data": {
            "text/plain": [
              "<Figure size 640x480 with 1 Axes>"
            ],
            "image/png": "[encoded data removed]"
          },
          "metadata": {}
        }
      ],
      "source": [
        "pd.crosstab(teachdata.loc[teachdata.Glucose > 0].Glucose,teachdata.Outcome).plot(title=\"Glucose plots\")\n",
        "pd.crosstab(teachdata.loc[teachdata.Glucose > 0].Glucose,teachdata.Outcome).plot.density()"
      ]
    },
    {
      "cell_type": "markdown",
      "source": [
        "Первый график, показывает количество пациентов с диабетом и без диабета в зависимости от уровня глюкозы в крови.\n",
        "\n",
        "Второй график показывает плотность распределения уровня глюкозы в крови для пациентов с диабетом и без него."
      ],
      "metadata": {
        "id": "AgW0qkEImd-c"
      }
    },
    {
      "cell_type": "code",
      "execution_count": null,
      "metadata": {
        "colab": {
          "base_uri": "https://localhost:8080/",
          "height": 902
        },
        "id": "bbtp5jfT1z27",
        "outputId": "f543fadb-f49f-4629-c270-1cefeeda7d98"
      },
      "outputs": [
        {
          "output_type": "execute_result",
          "data": {
            "text/plain": [
              "<Axes: ylabel='Density'>"
            ]
          },
          "metadata": {},
          "execution_count": 12
        },
        {
          "output_type": "display_data",
          "data": {
            "text/plain": [
              "<Figure size 640x480 with 1 Axes>"
            ],
            "image/png": "[encoded data removed]"
          },
          "metadata": {}
        },
        {
          "output_type": "display_data",
          "data": {
            "text/plain": [
              "<Figure size 640x480 with 1 Axes>"
            ],
            "image/png": "[encoded data removed]"
          },
          "metadata": {}
        }
      ],
      "source": [
        "dat = teachdata.loc[teachdata.Insulin > 0]\n",
        "pd.crosstab(dat.Insulin,dat.Outcome).plot(title=\"Insulin plots\")\n",
        "pd.crosstab(dat.Insulin,dat.Outcome).plot.density()"
      ]
    },
    {
      "cell_type": "markdown",
      "source": [
        "Первый график, показывает количество пациентов с диабетом и без диабета в зависимости от уровня инсулина.\n",
        "\n",
        "Второй график показывает плотность распределения уровня инсулина для пациентов с диабетом и без него."
      ],
      "metadata": {
        "id": "l53fvE0Qm86e"
      }
    },
    {
      "cell_type": "code",
      "execution_count": null,
      "metadata": {
        "colab": {
          "base_uri": "https://localhost:8080/",
          "height": 902
        },
        "id": "qaAgtU291z28",
        "outputId": "2abd736e-ed57-4647-badf-4282b333e299"
      },
      "outputs": [
        {
          "output_type": "execute_result",
          "data": {
            "text/plain": [
              "<Axes: ylabel='Density'>"
            ]
          },
          "metadata": {},
          "execution_count": 13
        },
        {
          "output_type": "display_data",
          "data": {
            "text/plain": [
              "<Figure size 640x480 with 1 Axes>"
            ],
            "image/png": "[encoded data removed]"
          },
          "metadata": {}
        },
        {
          "output_type": "display_data",
          "data": {
            "text/plain": [
              "<Figure size 640x480 with 1 Axes>"
            ],
            "image/png": "[encoded data removed]"
          },
          "metadata": {}
        }
      ],
      "source": [
        "pd.crosstab(teachdata.loc[teachdata.Age < 70].Age,teachdata.Outcome).plot(title=\"Age plots\")\n",
        "pd.crosstab(teachdata.loc[teachdata.Age < 70].Age,teachdata.Outcome).plot.density()"
      ]
    },
    {
      "cell_type": "markdown",
      "source": [
        "Первый график, показывает количество пациентов с диабетом и без диабета в зависимости от возраста.\n",
        "\n",
        "Второй график показывает плотность распределения возраста пациентов с диабетом и без него."
      ],
      "metadata": {
        "id": "vnnD4ijqnO6L"
      }
    },
    {
      "cell_type": "code",
      "execution_count": null,
      "metadata": {
        "colab": {
          "base_uri": "https://localhost:8080/"
        },
        "id": "l9tQip7LEPHb",
        "outputId": "34ab0b95-c5c5-418d-b013-9405c45113c9"
      },
      "outputs": [
        {
          "output_type": "stream",
          "name": "stdout",
          "text": [
            "Accuracy: 0.7291666666666666\n",
            "              precision    recall  f1-score   support\n",
            "\n",
            "           0       0.80      0.77      0.79       123\n",
            "           1       0.62      0.65      0.63        69\n",
            "\n",
            "    accuracy                           0.73       192\n",
            "   macro avg       0.71      0.71      0.71       192\n",
            "weighted avg       0.73      0.73      0.73       192\n",
            "\n",
            "Confusion Matrix:\n",
            "[[95 28]\n",
            " [24 45]]\n"
          ]
        },
        {
          "output_type": "stream",
          "name": "stderr",
          "text": [
            "/usr/local/lib/python3.10/dist-packages/sklearn/linear_model/_logistic.py:458: ConvergenceWarning: lbfgs failed to converge (status=1):\n",
            "STOP: TOTAL NO. of ITERATIONS REACHED LIMIT.\n",
            "\n",
            "Increase the number of iterations (max_iter) or scale the data as shown in:\n",
            "    https://scikit-learn.org/stable/modules/preprocessing.html\n",
            "Please also refer to the documentation for alternative solver options:\n",
            "    https://scikit-learn.org/stable/modules/linear_model.html#logistic-regression\n",
            "  n_iter_i = _check_optimize_result(\n"
          ]
        }
      ],
      "source": [
        "from sklearn.model_selection import train_test_split\n",
        "from sklearn.linear_model import LogisticRegression\n",
        "from sklearn.metrics import accuracy_score, classification_report, confusion_matrix\n",
        "\n",
        "X = teachdata.drop('Outcome', axis=1)\n",
        "y = teachdata['Outcome']\n",
        "\n",
        "X_train, X_test, y_train, y_test = train_test_split(X, y, test_size=0.25, random_state=42, shuffle = True)\n",
        "\n",
        "model = LogisticRegression(max_iter = 100)\n",
        "model.fit(X_train, y_train)\n",
        "\n",
        "y_pred = model.predict(X_test)\n",
        "\n",
        "accuracy = accuracy_score(y_test, y_pred)\n",
        "print(\"Accuracy:\", accuracy)\n",
        "\n",
        "print(classification_report(y_test, y_pred))\n",
        "\n",
        "print(\"Confusion Matrix:\")\n",
        "print(confusion_matrix(y_test, y_pred))"
      ]
    },
    {
      "cell_type": "markdown",
      "source": [
        "Модель демонстрирует приемлемую, но не идеальную производительность. Она имеет некоторую способность различать образцы класса 0 и класса 1, но существует пространство для улучшений. Возможно, оптимизация гиперпараметров модели может улучшить ее производительность."
      ],
      "metadata": {
        "id": "NSYbft0pJN-c"
      }
    },
    {
      "cell_type": "code",
      "execution_count": null,
      "metadata": {
        "colab": {
          "base_uri": "https://localhost:8080/"
        },
        "id": "Hfs9QCdantoP",
        "outputId": "5f79dc09-f244-4282-8884-a4fe28342955"
      },
      "outputs": [
        {
          "output_type": "stream",
          "name": "stdout",
          "text": [
            "Best Parameters: {'C': 10, 'class_weight': None, 'penalty': 'l2', 'solver': 'liblinear'}\n",
            "Best Accuracy: 0.777736131934033\n",
            "              precision    recall  f1-score   support\n",
            "\n",
            "           0       0.79      0.77      0.78       123\n",
            "           1       0.61      0.64      0.62        69\n",
            "\n",
            "    accuracy                           0.72       192\n",
            "   macro avg       0.70      0.71      0.70       192\n",
            "weighted avg       0.73      0.72      0.73       192\n",
            "\n"
          ]
        }
      ],
      "source": [
        "from sklearn.model_selection import GridSearchCV\n",
        "from sklearn.metrics import classification_report\n",
        "\n",
        "param_grid = {\n",
        "    'penalty': ['l1', 'l2'],  # Тип регуляризации\n",
        "    'C': [0.001, 0.01, 0.1, 1, 10, 100],  # Обратная сила регуляризации\n",
        "    'solver': ['liblinear'],  # Алгоритм оптимизации\n",
        "    'class_weight': [None, 'balanced']  # Балансировка классов\n",
        "}\n",
        "\n",
        "model = LogisticRegression()\n",
        "\n",
        "grid_search = GridSearchCV(model, param_grid, cv=5, scoring='accuracy')\n",
        "grid_search.fit(X_train, y_train)\n",
        "\n",
        "print(\"Best Parameters:\", grid_search.best_params_)\n",
        "print(\"Best Accuracy:\", grid_search.best_score_)\n",
        "y_pred = grid_search.predict(X_test)\n",
        "print(classification_report(y_test, y_pred))\n"
      ]
    },
    {
      "cell_type": "markdown",
      "source": [
        "С помощью gridsearch удалось добиться значительного улучшения параметра accuracy, почти до 78%. Однако, precision и recall для класса 1 остались примерно на том же уровне"
      ],
      "metadata": {
        "id": "2IHl03_zOSew"
      }
    },
    {
      "cell_type": "markdown",
      "source": [
        "##Протестируем метод catboost и попробуем улучшить нашу модель"
      ],
      "metadata": {
        "id": "c3tDWPzTQlWg"
      }
    },
    {
      "cell_type": "code",
      "source": [
        "!pip install catboost"
      ],
      "metadata": {
        "colab": {
          "base_uri": "https://localhost:8080/"
        },
        "id": "5LfL6FdgQ1Xg",
        "outputId": "3c2e0ca7-5efb-46ae-9399-def0b73ed1dc"
      },
      "execution_count": null,
      "outputs": [
        {
          "output_type": "stream",
          "name": "stdout",
          "text": [
            "Collecting catboost\n",
            "  Downloading catboost-1.2.3-cp310-cp310-manylinux2014_x86_64.whl (98.5 MB)\n",
            "\u001b[2K     \u001b[90m━━━━━━━━━━━━━━━━━━━━━━━━━━━━━━━━━━━━━━━━\u001b[0m \u001b[32m98.5/98.5 MB\u001b[0m \u001b[31m8.9 MB/s\u001b[0m eta \u001b[36m0:00:00\u001b[0m\n",
            "\u001b[?25hRequirement already satisfied: graphviz in /usr/local/lib/python3.10/dist-packages (from catboost) (0.20.3)\n",
            "Requirement already satisfied: matplotlib in /usr/local/lib/python3.10/dist-packages (from catboost) (3.7.1)\n",
            "Requirement already satisfied: numpy>=1.16.0 in /usr/local/lib/python3.10/dist-packages (from catboost) (1.25.2)\n",
            "Requirement already satisfied: pandas>=0.24 in /usr/local/lib/python3.10/dist-packages (from catboost) (2.0.3)\n",
            "Requirement already satisfied: scipy in /usr/local/lib/python3.10/dist-packages (from catboost) (1.11.4)\n",
            "Requirement already satisfied: plotly in /usr/local/lib/python3.10/dist-packages (from catboost) (5.15.0)\n",
            "Requirement already satisfied: six in /usr/local/lib/python3.10/dist-packages (from catboost) (1.16.0)\n",
            "Requirement already satisfied: python-dateutil>=2.8.2 in /usr/local/lib/python3.10/dist-packages (from pandas>=0.24->catboost) (2.8.2)\n",
            "Requirement already satisfied: pytz>=2020.1 in /usr/local/lib/python3.10/dist-packages (from pandas>=0.24->catboost) (2023.4)\n",
            "Requirement already satisfied: tzdata>=2022.1 in /usr/local/lib/python3.10/dist-packages (from pandas>=0.24->catboost) (2024.1)\n",
            "Requirement already satisfied: contourpy>=1.0.1 in /usr/local/lib/python3.10/dist-packages (from matplotlib->catboost) (1.2.1)\n",
            "Requirement already satisfied: cycler>=0.10 in /usr/local/lib/python3.10/dist-packages (from matplotlib->catboost) (0.12.1)\n",
            "Requirement already satisfied: fonttools>=4.22.0 in /usr/local/lib/python3.10/dist-packages (from matplotlib->catboost) (4.51.0)\n",
            "Requirement already satisfied: kiwisolver>=1.0.1 in /usr/local/lib/python3.10/dist-packages (from matplotlib->catboost) (1.4.5)\n",
            "Requirement already satisfied: packaging>=20.0 in /usr/local/lib/python3.10/dist-packages (from matplotlib->catboost) (24.0)\n",
            "Requirement already satisfied: pillow>=6.2.0 in /usr/local/lib/python3.10/dist-packages (from matplotlib->catboost) (9.4.0)\n",
            "Requirement already satisfied: pyparsing>=2.3.1 in /usr/local/lib/python3.10/dist-packages (from matplotlib->catboost) (3.1.2)\n",
            "Requirement already satisfied: tenacity>=6.2.0 in /usr/local/lib/python3.10/dist-packages (from plotly->catboost) (8.2.3)\n",
            "Installing collected packages: catboost\n",
            "Successfully installed catboost-1.2.3\n"
          ]
        }
      ]
    },
    {
      "cell_type": "code",
      "source": [
        "from google.colab import output\n",
        "output.enable_custom_widget_manager()"
      ],
      "metadata": {
        "id": "WStYHi-QQ8Tg"
      },
      "execution_count": null,
      "outputs": []
    },
    {
      "cell_type": "code",
      "source": [
        "from sklearn.model_selection import train_test_split\n",
        "from catboost import CatBoostClassifier\n",
        "from sklearn.metrics import accuracy_score, classification_report, confusion_matrix\n",
        "\n",
        "X = teachdata.drop('Outcome', axis=1)\n",
        "y = teachdata['Outcome']\n",
        "\n",
        "X_train, X_test, y_train, y_test = train_test_split(X, y, test_size=0.25, random_state=42, shuffle=True)\n",
        "\n",
        "params = {\"iterations\": 500,\n",
        "          \"depth\":5,\n",
        "          \"loss_function\": \"Logloss\",\n",
        "          \"verbose\": False}\n",
        "          #\"learning_rate\": 0.001}\n",
        "\n",
        "model = CatBoostClassifier(**params)\n",
        "model.fit(X_train, y_train, plot=True, eval_set=(X_test, y_test))\n",
        "\n",
        "y_pred = model.predict(X_test)\n",
        "\n",
        "accuracy = accuracy_score(y_test, y_pred)\n",
        "print(\"Accuracy:\", accuracy)\n",
        "\n",
        "print(classification_report(y_test, y_pred))\n",
        "\n",
        "print(\"Confusion Matrix:\")\n",
        "print(confusion_matrix(y_test, y_pred))"
      ],
      "metadata": {
        "colab": {
          "base_uri": "https://localhost:8080/",
          "height": 243,
          "referenced_widgets": [
            "1e8aaf4432ea4e8eb15880632d8d44d2"
          ]
        },
        "id": "NxE8AUjbRBQb",
        "outputId": "e13648f5-ba88-4f6a-c250-fec89a5f2bcf"
      },
      "execution_count": null,
      "outputs": [
        {
          "output_type": "display_data",
          "data": {
            "text/plain": [
              "MetricVisualizer(layout=Layout(align_self='stretch', height='500px'))"
            ],
            "application/vnd.jupyter.widget-view+json": {
              "version_major": 2,
              "version_minor": 0,
              "model_id": "1e8aaf4432ea4e8eb15880632d8d44d2"
            }
          },
          "metadata": {}
        },
        {
          "output_type": "stream",
          "name": "stdout",
          "text": [
            "Accuracy: 0.7604166666666666\n",
            "              precision    recall  f1-score   support\n",
            "\n",
            "           0       0.80      0.83      0.82       123\n",
            "           1       0.68      0.64      0.66        69\n",
            "\n",
            "    accuracy                           0.76       192\n",
            "   macro avg       0.74      0.73      0.74       192\n",
            "weighted avg       0.76      0.76      0.76       192\n",
            "\n",
            "Confusion Matrix:\n",
            "[[102  21]\n",
            " [ 25  44]]\n"
          ]
        }
      ]
    },
    {
      "cell_type": "markdown",
      "source": [
        "Как мы видим, показатели precision и recall выросли для обоих классов. Accuracy упало до 76%, но все же это выше чем у 1й модели (72%). Поэтому этот алгоритм является наиболее оптимальным"
      ],
      "metadata": {
        "id": "9Ntl6X-oRSUZ"
      }
    },
    {
      "cell_type": "markdown",
      "source": [
        "Построим ROC кривую нашей модели, чтобы визуально оценить ее производительность"
      ],
      "metadata": {
        "id": "u39YwU80TeWY"
      }
    },
    {
      "cell_type": "code",
      "execution_count": null,
      "metadata": {
        "colab": {
          "base_uri": "https://localhost:8080/",
          "height": 564
        },
        "id": "s7h5Ofj9kqgW",
        "outputId": "2e966b37-1ea2-4e85-a405-6919bc0c410d"
      },
      "outputs": [
        {
          "output_type": "display_data",
          "data": {
            "text/plain": [
              "<Figure size 800x600 with 1 Axes>"
            ],
            "image/png": "[encoded data removed]"
          },
          "metadata": {}
        }
      ],
      "source": [
        "from sklearn.metrics import roc_curve, roc_auc_score\n",
        "import matplotlib.pyplot as plt\n",
        "\n",
        "y_pred_proba = model.predict_proba(X_test)[:, 1]\n",
        "\n",
        "positive_class_index = 1\n",
        "negative_class_index = 0\n",
        "\n",
        "fpr_pos, tpr_pos, thresholds_pos = roc_curve(y_test, y_pred_proba, pos_label=positive_class_index)\n",
        "fpr_neg, tpr_neg, thresholds_neg = roc_curve(y_test, 1 - y_pred_proba, pos_label=negative_class_index)\n",
        "\n",
        "plt.figure(figsize=(8, 6))\n",
        "plt.plot(fpr_pos, tpr_pos, color='blue', lw=2, label='ROC curve (Class 1)')\n",
        "plt.plot(fpr_neg, tpr_neg, color='green', lw=2, label='ROC curve (Class 0)')\n",
        "plt.plot([0, 1], [0, 1], color='red', linestyle='--')\n",
        "plt.xlabel('False Positive Rate')\n",
        "plt.ylabel('True Positive Rate')\n",
        "plt.title('ROC Curves for Each Class')\n",
        "plt.legend()\n",
        "plt.show()\n"
      ]
    },
    {
      "cell_type": "markdown",
      "source": [
        "##Исследование модели предсказания диабета позволяет сделать несколько ключевых выводов:\n",
        "\n",
        "1. Производительность модели: Модель демонстрирует довольно неплохую производительность с точностью около 80%. Однако, есть некоторое количество ложных предсказаний.\n",
        "\n",
        "2. Классификация: Модель способна правильно классифицировать большинство случаев, но имеет тенденцию совершать ошибки в предсказании положительных случаев (что не очень хорошо :) )"
      ],
      "metadata": {
        "id": "Pht7WdTfS_I3"
      }
    }
  ],
  "metadata": {
    "colab": {
      "provenance": [],
      "include_colab_link": true
    },
    "kernelspec": {
      "display_name": "Python 3 (ipykernel)",
      "language": "python",
      "name": "python3"
    },
    "language_info": {
      "codemirror_mode": {
        "name": "ipython",
        "version": 3
      },
      "file_extension": ".py",
      "mimetype": "text/x-python",
      "name": "python",
      "nbconvert_exporter": "python",
      "pygments_lexer": "ipython3",
      "version": "3.11.2"
    },
    "widgets": {
      "application/vnd.jupyter.widget-state+json": {
        "1e8aaf4432ea4e8eb15880632d8d44d2": {
          "model_module": "catboost-widget",
          "model_name": "CatboostWidgetModel",
          "model_module_version": "^1.0.0",
          "state": {
            "_dom_classes": [],
            "_model_module": "catboost-widget",
            "_model_module_version": "^1.0.0",
            "_model_name": "CatboostWidgetModel",
            "_view_count": null,
            "_view_module": "catboost-widget",
            "_view_module_version": "^1.0.0",
            "_view_name": "CatboostWidgetView",
            "data": {
              "catboost_info": {
                "path": "catboost_info",
                "name": "catboost_info",
                "content": {
                  "passed_iterations": 499,
                  "total_iterations": 500,
                  "data": {
                    "iterations": [
                      {
                        "learn": [
                          0.6732558674
                        ],
                        "iteration": 0,
                        "passed_time": 0.04976819961,
                        "remaining_time": 24.8343316,
                        "test": [
                          0.6783134642
                        ]
                      },
                      {
                        "learn": [
                          0.6563981374
                        ],
                        "iteration": 1,
                        "passed_time": 0.05423123249,
                        "remaining_time": 13.50357689,
                        "test": [
                          0.6639545204
                        ]
                      },
                      {
                        "learn": [
                          0.639594131
                        ],
                        "iteration": 2,
                        "passed_time": 0.05632304911,
                        "remaining_time": 9.330851802,
                        "test": [
                          0.6501954534
                        ]
                      },
                      {
                        "learn": [
                          0.6300120884
                        ],
                        "iteration": 3,
                        "passed_time": 0.05943073897,
                        "remaining_time": 7.369411632,
                        "test": [
                          0.6424875751
                        ]
                      },
                      {
                        "learn": [
                          0.6157595317
                        ],
                        "iteration": 4,
                        "passed_time": 0.06331166138,
                        "remaining_time": 6.267854477,
                        "test": [
                          0.63172879
                        ]
                      },
                      {
                        "learn": [
                          0.6043902503
                        ],
                        "iteration": 5,
                        "passed_time": 0.06623906402,
                        "remaining_time": 5.453682938,
                        "test": [
                          0.6239955257
                        ]
                      },
                      {
                        "learn": [
                          0.5915195147
                        ],
                        "iteration": 6,
                        "passed_time": 0.06980956097,
                        "remaining_time": 4.916587651,
                        "test": [
                          0.6127016474
                        ]
                      },
                      {
                        "learn": [
                          0.5782815086
                        ],
                        "iteration": 7,
                        "passed_time": 0.07160351483,
                        "remaining_time": 4.403616162,
                        "test": [
                          0.6036692281
                        ]
                      },
                      {
                        "learn": [
                          0.566412237
                        ],
                        "iteration": 8,
                        "passed_time": 0.07475741566,
                        "remaining_time": 4.078432343,
                        "test": [
                          0.5952322545
                        ]
                      },
                      {
                        "learn": [
                          0.5565565957
                        ],
                        "iteration": 9,
                        "passed_time": 0.07891164502,
                        "remaining_time": 3.866670606,
                        "test": [
                          0.5864571192
                        ]
                      },
                      {
                        "learn": [
                          0.5488011042
                        ],
                        "iteration": 10,
                        "passed_time": 0.08124827976,
                        "remaining_time": 3.611855346,
                        "test": [
                          0.5808144465
                        ]
                      },
                      {
                        "learn": [
                          0.5378177961
                        ],
                        "iteration": 11,
                        "passed_time": 0.08338163612,
                        "remaining_time": 3.390853202,
                        "test": [
                          0.5722763251
                        ]
                      },
                      {
                        "learn": [
                          0.5308059057
                        ],
                        "iteration": 12,
                        "passed_time": 0.08686043934,
                        "remaining_time": 3.253925689,
                        "test": [
                          0.5669572447
                        ]
                      },
                      {
                        "learn": [
                          0.5229313638
                        ],
                        "iteration": 13,
                        "passed_time": 0.08913079852,
                        "remaining_time": 3.094112006,
                        "test": [
                          0.5609768361
                        ]
                      },
                      {
                        "learn": [
                          0.514787462
                        ],
                        "iteration": 14,
                        "passed_time": 0.09154323677,
                        "remaining_time": 2.959897989,
                        "test": [
                          0.5529137263
                        ]
                      },
                      {
                        "learn": [
                          0.5096430249
                        ],
                        "iteration": 15,
                        "passed_time": 0.09547470773,
                        "remaining_time": 2.888109909,
                        "test": [
                          0.5493806975
                        ]
                      },
                      {
                        "learn": [
                          0.5032227834
                        ],
                        "iteration": 16,
                        "passed_time": 0.09798391915,
                        "remaining_time": 2.783896056,
                        "test": [
                          0.5459925715
                        ]
                      },
                      {
                        "learn": [
                          0.495669206
                        ],
                        "iteration": 17,
                        "passed_time": 0.1018699774,
                        "remaining_time": 2.727851616,
                        "test": [
                          0.5401226119
                        ]
                      },
                      {
                        "learn": [
                          0.4919164975
                        ],
                        "iteration": 18,
                        "passed_time": 0.1038109729,
                        "remaining_time": 2.628056736,
                        "test": [
                          0.5383862638
                        ]
                      },
                      {
                        "learn": [
                          0.486322244
                        ],
                        "iteration": 19,
                        "passed_time": 0.1070865814,
                        "remaining_time": 2.570077954,
                        "test": [
                          0.5347715445
                        ]
                      },
                      {
                        "learn": [
                          0.4835870531
                        ],
                        "iteration": 20,
                        "passed_time": 0.1121023309,
                        "remaining_time": 2.557000786,
                        "test": [
                          0.5333789946
                        ]
                      },
                      {
                        "learn": [
                          0.4790870878
                        ],
                        "iteration": 21,
                        "passed_time": 0.1138207472,
                        "remaining_time": 2.473014416,
                        "test": [
                          0.5311233998
                        ]
                      },
                      {
                        "learn": [
                          0.4759724935
                        ],
                        "iteration": 22,
                        "passed_time": 0.1154036521,
                        "remaining_time": 2.393371393,
                        "test": [
                          0.5280763148
                        ]
                      },
                      {
                        "learn": [
                          0.4721769757
                        ],
                        "iteration": 23,
                        "passed_time": 0.1172083226,
                        "remaining_time": 2.324631732,
                        "test": [
                          0.5265672723
                        ]
                      },
                      {
                        "learn": [
                          0.4680285454
                        ],
                        "iteration": 24,
                        "passed_time": 0.1221700501,
                        "remaining_time": 2.321230952,
                        "test": [
                          0.5252169116
                        ]
                      },
                      {
                        "learn": [
                          0.464246432
                        ],
                        "iteration": 25,
                        "passed_time": 0.1234518893,
                        "remaining_time": 2.250622905,
                        "test": [
                          0.5247729323
                        ]
                      },
                      {
                        "learn": [
                          0.4608557489
                        ],
                        "iteration": 26,
                        "passed_time": 0.1249534631,
                        "remaining_time": 2.188999557,
                        "test": [
                          0.522669041
                        ]
                      },
                      {
                        "learn": [
                          0.4566133817
                        ],
                        "iteration": 27,
                        "passed_time": 0.1261246641,
                        "remaining_time": 2.12610148,
                        "test": [
                          0.5198504604
                        ]
                      },
                      {
                        "learn": [
                          0.4539101919
                        ],
                        "iteration": 28,
                        "passed_time": 0.1272383701,
                        "remaining_time": 2.066526632,
                        "test": [
                          0.519060872
                        ]
                      },
                      {
                        "learn": [
                          0.4498311679
                        ],
                        "iteration": 29,
                        "passed_time": 0.1286353233,
                        "remaining_time": 2.015286732,
                        "test": [
                          0.5177896947
                        ]
                      },
                      {
                        "learn": [
                          0.4475509855
                        ],
                        "iteration": 30,
                        "passed_time": 0.1297574122,
                        "remaining_time": 1.963104075,
                        "test": [
                          0.5166341407
                        ]
                      },
                      {
                        "learn": [
                          0.4441378911
                        ],
                        "iteration": 31,
                        "passed_time": 0.1309986217,
                        "remaining_time": 1.915854843,
                        "test": [
                          0.514584712
                        ]
                      },
                      {
                        "learn": [
                          0.440842496
                        ],
                        "iteration": 32,
                        "passed_time": 0.1324642262,
                        "remaining_time": 1.874569503,
                        "test": [
                          0.5124777218
                        ]
                      },
                      {
                        "learn": [
                          0.4378450182
                        ],
                        "iteration": 33,
                        "passed_time": 0.133549362,
                        "remaining_time": 1.830411844,
                        "test": [
                          0.5114549613
                        ]
                      },
                      {
                        "learn": [
                          0.4353560077
                        ],
                        "iteration": 34,
                        "passed_time": 0.1348868847,
                        "remaining_time": 1.792068611,
                        "test": [
                          0.5100342654
                        ]
                      },
                      {
                        "learn": [
                          0.4332116445
                        ],
                        "iteration": 35,
                        "passed_time": 0.1362322161,
                        "remaining_time": 1.755881896,
                        "test": [
                          0.5094016721
                        ]
                      },
                      {
                        "learn": [
                          0.4307075606
                        ],
                        "iteration": 36,
                        "passed_time": 0.1371925181,
                        "remaining_time": 1.71676043,
                        "test": [
                          0.5091432413
                        ]
                      },
                      {
                        "learn": [
                          0.427779807
                        ],
                        "iteration": 37,
                        "passed_time": 0.1384535182,
                        "remaining_time": 1.6833033,
                        "test": [
                          0.5075742659
                        ]
                      },
                      {
                        "learn": [
                          0.425788482
                        ],
                        "iteration": 38,
                        "passed_time": 0.1397530577,
                        "remaining_time": 1.65195281,
                        "test": [
                          0.5075924912
                        ]
                      },
                      {
                        "learn": [
                          0.4233262539
                        ],
                        "iteration": 39,
                        "passed_time": 0.1411828696,
                        "remaining_time": 1.623603,
                        "test": [
                          0.5067299449
                        ]
                      },
                      {
                        "learn": [
                          0.4205210739
                        ],
                        "iteration": 40,
                        "passed_time": 0.1422764288,
                        "remaining_time": 1.592801971,
                        "test": [
                          0.5050355647
                        ]
                      },
                      {
                        "learn": [
                          0.4181594319
                        ],
                        "iteration": 41,
                        "passed_time": 0.1437163277,
                        "remaining_time": 1.567192336,
                        "test": [
                          0.5053603168
                        ]
                      },
                      {
                        "learn": [
                          0.4168276787
                        ],
                        "iteration": 42,
                        "passed_time": 0.1447649728,
                        "remaining_time": 1.538548665,
                        "test": [
                          0.5044198864
                        ]
                      },
                      {
                        "learn": [
                          0.4148464468
                        ],
                        "iteration": 43,
                        "passed_time": 0.145834934,
                        "remaining_time": 1.511380225,
                        "test": [
                          0.5035888638
                        ]
                      },
                      {
                        "learn": [
                          0.4126323064
                        ],
                        "iteration": 44,
                        "passed_time": 0.146894353,
                        "remaining_time": 1.485265125,
                        "test": [
                          0.5024138872
                        ]
                      },
                      {
                        "learn": [
                          0.4117877748
                        ],
                        "iteration": 45,
                        "passed_time": 0.1485025306,
                        "remaining_time": 1.465655411,
                        "test": [
                          0.5022377524
                        ]
                      },
                      {
                        "learn": [
                          0.4103884697
                        ],
                        "iteration": 46,
                        "passed_time": 0.1495564738,
                        "remaining_time": 1.441469843,
                        "test": [
                          0.5015533998
                        ]
                      },
                      {
                        "learn": [
                          0.4080973201
                        ],
                        "iteration": 47,
                        "passed_time": 0.1510421433,
                        "remaining_time": 1.422313516,
                        "test": [
                          0.5016800225
                        ]
                      },
                      {
                        "learn": [
                          0.4064584308
                        ],
                        "iteration": 48,
                        "passed_time": 0.1525031023,
                        "remaining_time": 1.403651003,
                        "test": [
                          0.5017889106
                        ]
                      },
                      {
                        "learn": [
                          0.4051815139
                        ],
                        "iteration": 49,
                        "passed_time": 0.1626991238,
                        "remaining_time": 1.464292114,
                        "test": [
                          0.5013501314
                        ]
                      },
                      {
                        "learn": [
                          0.4030851788
                        ],
                        "iteration": 50,
                        "passed_time": 0.1637129037,
                        "remaining_time": 1.441315564,
                        "test": [
                          0.5009673436
                        ]
                      },
                      {
                        "learn": [
                          0.4007146888
                        ],
                        "iteration": 51,
                        "passed_time": 0.1647436784,
                        "remaining_time": 1.419330153,
                        "test": [
                          0.50139713
                        ]
                      },
                      {
                        "learn": [
                          0.3993501663
                        ],
                        "iteration": 52,
                        "passed_time": 0.1658543165,
                        "remaining_time": 1.398809047,
                        "test": [
                          0.5008496846
                        ]
                      },
                      {
                        "learn": [
                          0.3982535203
                        ],
                        "iteration": 53,
                        "passed_time": 0.1668708725,
                        "remaining_time": 1.378229799,
                        "test": [
                          0.5003711795
                        ]
                      },
                      {
                        "learn": [
                          0.3963927693
                        ],
                        "iteration": 54,
                        "passed_time": 0.1753056783,
                        "remaining_time": 1.418382306,
                        "test": [
                          0.5005311496
                        ]
                      },
                      {
                        "learn": [
                          0.3946856393
                        ],
                        "iteration": 55,
                        "passed_time": 0.176386697,
                        "remaining_time": 1.398494526,
                        "test": [
                          0.5002903504
                        ]
                      },
                      {
                        "learn": [
                          0.3930234379
                        ],
                        "iteration": 56,
                        "passed_time": 0.1774695909,
                        "remaining_time": 1.379281206,
                        "test": [
                          0.5002580343
                        ]
                      },
                      {
                        "learn": [
                          0.3917020957
                        ],
                        "iteration": 57,
                        "passed_time": 0.1786355833,
                        "remaining_time": 1.361326342,
                        "test": [
                          0.5005173919
                        ]
                      },
                      {
                        "learn": [
                          0.3898044427
                        ],
                        "iteration": 58,
                        "passed_time": 0.1868923516,
                        "remaining_time": 1.396941136,
                        "test": [
                          0.5010291938
                        ]
                      },
                      {
                        "learn": [
                          0.3878307607
                        ],
                        "iteration": 59,
                        "passed_time": 0.1881313064,
                        "remaining_time": 1.37962958,
                        "test": [
                          0.5003985237
                        ]
                      },
                      {
                        "learn": [
                          0.3866126802
                        ],
                        "iteration": 60,
                        "passed_time": 0.1891589664,
                        "remaining_time": 1.361324365,
                        "test": [
                          0.499794253
                        ]
                      },
                      {
                        "learn": [
                          0.3850828542
                        ],
                        "iteration": 61,
                        "passed_time": 0.1902821345,
                        "remaining_time": 1.344251208,
                        "test": [
                          0.5005126942
                        ]
                      },
                      {
                        "learn": [
                          0.3823882739
                        ],
                        "iteration": 62,
                        "passed_time": 0.1919735243,
                        "remaining_time": 1.331625875,
                        "test": [
                          0.501020207
                        ]
                      },
                      {
                        "learn": [
                          0.3804900381
                        ],
                        "iteration": 63,
                        "passed_time": 0.2001462034,
                        "remaining_time": 1.363496011,
                        "test": [
                          0.5016283982
                        ]
                      },
                      {
                        "learn": [
                          0.3794504537
                        ],
                        "iteration": 64,
                        "passed_time": 0.2014200476,
                        "remaining_time": 1.347964934,
                        "test": [
                          0.5015317657
                        ]
                      },
                      {
                        "learn": [
                          0.3784251213
                        ],
                        "iteration": 65,
                        "passed_time": 0.2025291496,
                        "remaining_time": 1.33178259,
                        "test": [
                          0.501393479
                        ]
                      },
                      {
                        "learn": [
                          0.3773070176
                        ],
                        "iteration": 66,
                        "passed_time": 0.2036350597,
                        "remaining_time": 1.316029565,
                        "test": [
                          0.501019746
                        ]
                      },
                      {
                        "learn": [
                          0.3746676975
                        ],
                        "iteration": 67,
                        "passed_time": 0.2052400334,
                        "remaining_time": 1.303877859,
                        "test": [
                          0.5010756707
                        ]
                      },
                      {
                        "learn": [
                          0.3737187386
                        ],
                        "iteration": 68,
                        "passed_time": 0.2132974467,
                        "remaining_time": 1.332336225,
                        "test": [
                          0.5007879812
                        ]
                      },
                      {
                        "learn": [
                          0.3726161321
                        ],
                        "iteration": 69,
                        "passed_time": 0.2145123217,
                        "remaining_time": 1.317718548,
                        "test": [
                          0.5006336868
                        ]
                      },
                      {
                        "learn": [
                          0.3717122873
                        ],
                        "iteration": 70,
                        "passed_time": 0.2156480143,
                        "remaining_time": 1.302999974,
                        "test": [
                          0.5003505778
                        ]
                      },
                      {
                        "learn": [
                          0.3706203567
                        ],
                        "iteration": 71,
                        "passed_time": 0.2166833193,
                        "remaining_time": 1.288061954,
                        "test": [
                          0.4996235583
                        ]
                      },
                      {
                        "learn": [
                          0.3697603014
                        ],
                        "iteration": 72,
                        "passed_time": 0.2180331947,
                        "remaining_time": 1.275344851,
                        "test": [
                          0.499184628
                        ]
                      },
                      {
                        "learn": [
                          0.3687815136
                        ],
                        "iteration": 73,
                        "passed_time": 0.2196423478,
                        "remaining_time": 1.26442757,
                        "test": [
                          0.499112252
                        ]
                      },
                      {
                        "learn": [
                          0.367085033
                        ],
                        "iteration": 74,
                        "passed_time": 0.2207961881,
                        "remaining_time": 1.251178399,
                        "test": [
                          0.4997178622
                        ]
                      },
                      {
                        "learn": [
                          0.3653650284
                        ],
                        "iteration": 75,
                        "passed_time": 0.2224826057,
                        "remaining_time": 1.241218748,
                        "test": [
                          0.4985503354
                        ]
                      },
                      {
                        "learn": [
                          0.36431649
                        ],
                        "iteration": 76,
                        "passed_time": 0.2238123874,
                        "remaining_time": 1.229514803,
                        "test": [
                          0.4985203839
                        ]
                      },
                      {
                        "learn": [
                          0.363505125
                        ],
                        "iteration": 77,
                        "passed_time": 0.2249980444,
                        "remaining_time": 1.217297112,
                        "test": [
                          0.4990938705
                        ]
                      },
                      {
                        "learn": [
                          0.361177259
                        ],
                        "iteration": 78,
                        "passed_time": 0.2261645741,
                        "remaining_time": 1.205256781,
                        "test": [
                          0.4994779782
                        ]
                      },
                      {
                        "learn": [
                          0.3589292367
                        ],
                        "iteration": 79,
                        "passed_time": 0.2275561488,
                        "remaining_time": 1.194669781,
                        "test": [
                          0.4993898613
                        ]
                      },
                      {
                        "learn": [
                          0.3577492502
                        ],
                        "iteration": 80,
                        "passed_time": 0.2287718797,
                        "remaining_time": 1.183400217,
                        "test": [
                          0.4990296668
                        ]
                      },
                      {
                        "learn": [
                          0.3568880823
                        ],
                        "iteration": 81,
                        "passed_time": 0.2298445756,
                        "remaining_time": 1.171646739,
                        "test": [
                          0.4990668259
                        ]
                      },
                      {
                        "learn": [
                          0.3553890122
                        ],
                        "iteration": 82,
                        "passed_time": 0.2313910589,
                        "remaining_time": 1.162530983,
                        "test": [
                          0.4999785429
                        ]
                      },
                      {
                        "learn": [
                          0.3539801174
                        ],
                        "iteration": 83,
                        "passed_time": 0.232502117,
                        "remaining_time": 1.151439056,
                        "test": [
                          0.5002006396
                        ]
                      },
                      {
                        "learn": [
                          0.3535647392
                        ],
                        "iteration": 84,
                        "passed_time": 0.2336960046,
                        "remaining_time": 1.140986375,
                        "test": [
                          0.5002345281
                        ]
                      },
                      {
                        "learn": [
                          0.3525925742
                        ],
                        "iteration": 85,
                        "passed_time": 0.2351590333,
                        "remaining_time": 1.132044649,
                        "test": [
                          0.4998065531
                        ]
                      },
                      {
                        "learn": [
                          0.3509043588
                        ],
                        "iteration": 86,
                        "passed_time": 0.2361530296,
                        "remaining_time": 1.12104829,
                        "test": [
                          0.5011017348
                        ]
                      },
                      {
                        "learn": [
                          0.3488835759
                        ],
                        "iteration": 87,
                        "passed_time": 0.2375931704,
                        "remaining_time": 1.112368025,
                        "test": [
                          0.5018592444
                        ]
                      },
                      {
                        "learn": [
                          0.3473936452
                        ],
                        "iteration": 88,
                        "passed_time": 0.2390449588,
                        "remaining_time": 1.103904248,
                        "test": [
                          0.5011874131
                        ]
                      },
                      {
                        "learn": [
                          0.3467335701
                        ],
                        "iteration": 89,
                        "passed_time": 0.2402097007,
                        "remaining_time": 1.094288637,
                        "test": [
                          0.5009512708
                        ]
                      },
                      {
                        "learn": [
                          0.3451162444
                        ],
                        "iteration": 90,
                        "passed_time": 0.2416345536,
                        "remaining_time": 1.086027829,
                        "test": [
                          0.5004160577
                        ]
                      },
                      {
                        "learn": [
                          0.3443640603
                        ],
                        "iteration": 91,
                        "passed_time": 0.2430263151,
                        "remaining_time": 1.077768876,
                        "test": [
                          0.500783712
                        ]
                      },
                      {
                        "learn": [
                          0.3428235054
                        ],
                        "iteration": 92,
                        "passed_time": 0.2441573296,
                        "remaining_time": 1.068516486,
                        "test": [
                          0.5006861623
                        ]
                      },
                      {
                        "learn": [
                          0.341757218
                        ],
                        "iteration": 93,
                        "passed_time": 0.2457655182,
                        "remaining_time": 1.061497876,
                        "test": [
                          0.5008331045
                        ]
                      },
                      {
                        "learn": [
                          0.3408222728
                        ],
                        "iteration": 94,
                        "passed_time": 0.2476751638,
                        "remaining_time": 1.05587833,
                        "test": [
                          0.5014632322
                        ]
                      },
                      {
                        "learn": [
                          0.3399022155
                        ],
                        "iteration": 95,
                        "passed_time": 0.2493178911,
                        "remaining_time": 1.049212792,
                        "test": [
                          0.5012823972
                        ]
                      },
                      {
                        "learn": [
                          0.3386419614
                        ],
                        "iteration": 96,
                        "passed_time": 0.2521012182,
                        "remaining_time": 1.047389597,
                        "test": [
                          0.5020471614
                        ]
                      },
                      {
                        "learn": [
                          0.3376624849
                        ],
                        "iteration": 97,
                        "passed_time": 0.2537817209,
                        "remaining_time": 1.041022977,
                        "test": [
                          0.5027609901
                        ]
                      },
                      {
                        "learn": [
                          0.3359503746
                        ],
                        "iteration": 98,
                        "passed_time": 0.2583200795,
                        "remaining_time": 1.046326787,
                        "test": [
                          0.5029656727
                        ]
                      },
                      {
                        "learn": [
                          0.334735526
                        ],
                        "iteration": 99,
                        "passed_time": 0.2616311414,
                        "remaining_time": 1.046524566,
                        "test": [
                          0.5031848825
                        ]
                      },
                      {
                        "learn": [
                          0.3339969582
                        ],
                        "iteration": 100,
                        "passed_time": 0.2632057312,
                        "remaining_time": 1.039792938,
                        "test": [
                          0.5036626211
                        ]
                      },
                      {
                        "learn": [
                          0.3321848445
                        ],
                        "iteration": 101,
                        "passed_time": 0.2687232109,
                        "remaining_time": 1.048547431,
                        "test": [
                          0.5032993476
                        ]
                      },
                      {
                        "learn": [
                          0.3307946523
                        ],
                        "iteration": 102,
                        "passed_time": 0.2724036197,
                        "remaining_time": 1.049944049,
                        "test": [
                          0.5041323355
                        ]
                      },
                      {
                        "learn": [
                          0.3294318517
                        ],
                        "iteration": 103,
                        "passed_time": 0.2740690177,
                        "remaining_time": 1.04357049,
                        "test": [
                          0.5048717099
                        ]
                      },
                      {
                        "learn": [
                          0.3285329342
                        ],
                        "iteration": 104,
                        "passed_time": 0.2756883379,
                        "remaining_time": 1.037113271,
                        "test": [
                          0.5050091239
                        ]
                      },
                      {
                        "learn": [
                          0.327776485
                        ],
                        "iteration": 105,
                        "passed_time": 0.2812573636,
                        "remaining_time": 1.045428314,
                        "test": [
                          0.5053693602
                        ]
                      },
                      {
                        "learn": [
                          0.327114847
                        ],
                        "iteration": 106,
                        "passed_time": 0.2828906943,
                        "remaining_time": 1.039028438,
                        "test": [
                          0.5045435844
                        ]
                      },
                      {
                        "learn": [
                          0.3255416817
                        ],
                        "iteration": 107,
                        "passed_time": 0.2844365348,
                        "remaining_time": 1.032399275,
                        "test": [
                          0.505561284
                        ]
                      },
                      {
                        "learn": [
                          0.3249736892
                        ],
                        "iteration": 108,
                        "passed_time": 0.2887152375,
                        "remaining_time": 1.035666586,
                        "test": [
                          0.5056033685
                        ]
                      },
                      {
                        "learn": [
                          0.3242579566
                        ],
                        "iteration": 109,
                        "passed_time": 0.2923487679,
                        "remaining_time": 1.036509268,
                        "test": [
                          0.5059008124
                        ]
                      },
                      {
                        "learn": [
                          0.3231446213
                        ],
                        "iteration": 110,
                        "passed_time": 0.2968611011,
                        "remaining_time": 1.040351066,
                        "test": [
                          0.5067396914
                        ]
                      },
                      {
                        "learn": [
                          0.3222955068
                        ],
                        "iteration": 111,
                        "passed_time": 0.2985351743,
                        "remaining_time": 1.034211139,
                        "test": [
                          0.5063780428
                        ]
                      },
                      {
                        "learn": [
                          0.320552614
                        ],
                        "iteration": 112,
                        "passed_time": 0.3000600492,
                        "remaining_time": 1.027639284,
                        "test": [
                          0.5062302126
                        ]
                      },
                      {
                        "learn": [
                          0.3195660644
                        ],
                        "iteration": 113,
                        "passed_time": 0.3057269285,
                        "remaining_time": 1.035180653,
                        "test": [
                          0.5068767701
                        ]
                      },
                      {
                        "learn": [
                          0.3190611468
                        ],
                        "iteration": 114,
                        "passed_time": 0.3072095314,
                        "remaining_time": 1.028484083,
                        "test": [
                          0.5069664547
                        ]
                      },
                      {
                        "learn": [
                          0.3179035187
                        ],
                        "iteration": 115,
                        "passed_time": 0.3086931203,
                        "remaining_time": 1.021880674,
                        "test": [
                          0.5070106899
                        ]
                      },
                      {
                        "learn": [
                          0.3169490231
                        ],
                        "iteration": 116,
                        "passed_time": 0.3412991987,
                        "remaining_time": 1.117244385,
                        "test": [
                          0.507588156
                        ]
                      },
                      {
                        "learn": [
                          0.3166782591
                        ],
                        "iteration": 117,
                        "passed_time": 0.345866623,
                        "remaining_time": 1.119669915,
                        "test": [
                          0.5076083802
                        ]
                      },
                      {
                        "learn": [
                          0.3159197966
                        ],
                        "iteration": 118,
                        "passed_time": 0.3604563247,
                        "remaining_time": 1.154066048,
                        "test": [
                          0.5085688101
                        ]
                      },
                      {
                        "learn": [
                          0.315075371
                        ],
                        "iteration": 119,
                        "passed_time": 0.3622018901,
                        "remaining_time": 1.146972652,
                        "test": [
                          0.5087204361
                        ]
                      },
                      {
                        "learn": [
                          0.3147638904
                        ],
                        "iteration": 120,
                        "passed_time": 0.3659791075,
                        "remaining_time": 1.146331254,
                        "test": [
                          0.5088045312
                        ]
                      },
                      {
                        "learn": [
                          0.3134542571
                        ],
                        "iteration": 121,
                        "passed_time": 0.382017167,
                        "remaining_time": 1.18362696,
                        "test": [
                          0.5079622557
                        ]
                      },
                      {
                        "learn": [
                          0.3130526013
                        ],
                        "iteration": 122,
                        "passed_time": 0.3886296837,
                        "remaining_time": 1.191165779,
                        "test": [
                          0.507800141
                        ]
                      },
                      {
                        "learn": [
                          0.311826494
                        ],
                        "iteration": 123,
                        "passed_time": 0.3901508616,
                        "remaining_time": 1.183038096,
                        "test": [
                          0.5089929127
                        ]
                      },
                      {
                        "learn": [
                          0.3112653097
                        ],
                        "iteration": 124,
                        "passed_time": 0.4030708191,
                        "remaining_time": 1.209212457,
                        "test": [
                          0.5095252456
                        ]
                      },
                      {
                        "learn": [
                          0.3103442987
                        ],
                        "iteration": 125,
                        "passed_time": 0.4068117084,
                        "remaining_time": 1.207520468,
                        "test": [
                          0.5091946834
                        ]
                      },
                      {
                        "learn": [
                          0.309237957
                        ],
                        "iteration": 126,
                        "passed_time": 0.4087936846,
                        "remaining_time": 1.200630271,
                        "test": [
                          0.5081326852
                        ]
                      },
                      {
                        "learn": [
                          0.3088230557
                        ],
                        "iteration": 127,
                        "passed_time": 0.4221265561,
                        "remaining_time": 1.226805304,
                        "test": [
                          0.508493477
                        ]
                      },
                      {
                        "learn": [
                          0.3075624042
                        ],
                        "iteration": 128,
                        "passed_time": 0.423804535,
                        "remaining_time": 1.218848701,
                        "test": [
                          0.5094776279
                        ]
                      },
                      {
                        "learn": [
                          0.3065702915
                        ],
                        "iteration": 129,
                        "passed_time": 0.4276636359,
                        "remaining_time": 1.217196502,
                        "test": [
                          0.5092711248
                        ]
                      },
                      {
                        "learn": [
                          0.305322965
                        ],
                        "iteration": 130,
                        "passed_time": 0.4293279702,
                        "remaining_time": 1.209328405,
                        "test": [
                          0.5103640585
                        ]
                      },
                      {
                        "learn": [
                          0.3043103748
                        ],
                        "iteration": 131,
                        "passed_time": 0.4372605843,
                        "remaining_time": 1.219029508,
                        "test": [
                          0.5105917395
                        ]
                      },
                      {
                        "learn": [
                          0.303703732
                        ],
                        "iteration": 132,
                        "passed_time": 0.4391852764,
                        "remaining_time": 1.211887191,
                        "test": [
                          0.5099355592
                        ]
                      },
                      {
                        "learn": [
                          0.3027851846
                        ],
                        "iteration": 133,
                        "passed_time": 0.4426019771,
                        "remaining_time": 1.208897937,
                        "test": [
                          0.5100796922
                        ]
                      },
                      {
                        "learn": [
                          0.3020484977
                        ],
                        "iteration": 134,
                        "passed_time": 0.4445892482,
                        "remaining_time": 1.202037597,
                        "test": [
                          0.5106669699
                        ]
                      },
                      {
                        "learn": [
                          0.3014122115
                        ],
                        "iteration": 135,
                        "passed_time": 0.4461391053,
                        "remaining_time": 1.194078194,
                        "test": [
                          0.5104510503
                        ]
                      },
                      {
                        "learn": [
                          0.3010147148
                        ],
                        "iteration": 136,
                        "passed_time": 0.4576352368,
                        "remaining_time": 1.212566357,
                        "test": [
                          0.5100028404
                        ]
                      },
                      {
                        "learn": [
                          0.3002167808
                        ],
                        "iteration": 137,
                        "passed_time": 0.4592444131,
                        "remaining_time": 1.20468462,
                        "test": [
                          0.5092439302
                        ]
                      },
                      {
                        "learn": [
                          0.2991894616
                        ],
                        "iteration": 138,
                        "passed_time": 0.4608536763,
                        "remaining_time": 1.196893361,
                        "test": [
                          0.5086750876
                        ]
                      },
                      {
                        "learn": [
                          0.2985579173
                        ],
                        "iteration": 139,
                        "passed_time": 0.4665207647,
                        "remaining_time": 1.199624824,
                        "test": [
                          0.5082217505
                        ]
                      },
                      {
                        "learn": [
                          0.2980320189
                        ],
                        "iteration": 140,
                        "passed_time": 0.4680491544,
                        "remaining_time": 1.19169962,
                        "test": [
                          0.5086097159
                        ]
                      },
                      {
                        "learn": [
                          0.2972460323
                        ],
                        "iteration": 141,
                        "passed_time": 0.4696405763,
                        "remaining_time": 1.184023425,
                        "test": [
                          0.5080416727
                        ]
                      },
                      {
                        "learn": [
                          0.2961865001
                        ],
                        "iteration": 142,
                        "passed_time": 0.4740215339,
                        "remaining_time": 1.183396417,
                        "test": [
                          0.5089791824
                        ]
                      },
                      {
                        "learn": [
                          0.2951792081
                        ],
                        "iteration": 143,
                        "passed_time": 0.4776787551,
                        "remaining_time": 1.180928033,
                        "test": [
                          0.5094290314
                        ]
                      },
                      {
                        "learn": [
                          0.2943855921
                        ],
                        "iteration": 144,
                        "passed_time": 0.4905299391,
                        "remaining_time": 1.20095261,
                        "test": [
                          0.5094934539
                        ]
                      },
                      {
                        "learn": [
                          0.2933077547
                        ],
                        "iteration": 145,
                        "passed_time": 0.4922793885,
                        "remaining_time": 1.193608928,
                        "test": [
                          0.5100535709
                        ]
                      },
                      {
                        "learn": [
                          0.2924512757
                        ],
                        "iteration": 146,
                        "passed_time": 0.4959718431,
                        "remaining_time": 1.191007215,
                        "test": [
                          0.5095177961
                        ]
                      },
                      {
                        "learn": [
                          0.2920298047
                        ],
                        "iteration": 147,
                        "passed_time": 0.5048499605,
                        "remaining_time": 1.20072423,
                        "test": [
                          0.5103114941
                        ]
                      },
                      {
                        "learn": [
                          0.2911878162
                        ],
                        "iteration": 148,
                        "passed_time": 0.5065068097,
                        "remaining_time": 1.193180471,
                        "test": [
                          0.5094243959
                        ]
                      },
                      {
                        "learn": [
                          0.2909931077
                        ],
                        "iteration": 149,
                        "passed_time": 0.5081687002,
                        "remaining_time": 1.185726967,
                        "test": [
                          0.5097146647
                        ]
                      },
                      {
                        "learn": [
                          0.2901952002
                        ],
                        "iteration": 150,
                        "passed_time": 0.5142350467,
                        "remaining_time": 1.188530009,
                        "test": [
                          0.5100517656
                        ]
                      },
                      {
                        "learn": [
                          0.2890923553
                        ],
                        "iteration": 151,
                        "passed_time": 0.5160356642,
                        "remaining_time": 1.181450073,
                        "test": [
                          0.5109152048
                        ]
                      },
                      {
                        "learn": [
                          0.2882297039
                        ],
                        "iteration": 152,
                        "passed_time": 0.5176716852,
                        "remaining_time": 1.174065848,
                        "test": [
                          0.511382658
                        ]
                      },
                      {
                        "learn": [
                          0.2876499494
                        ],
                        "iteration": 153,
                        "passed_time": 0.5226977054,
                        "remaining_time": 1.174372767,
                        "test": [
                          0.5108222483
                        ]
                      },
                      {
                        "learn": [
                          0.286813736
                        ],
                        "iteration": 154,
                        "passed_time": 0.5254923664,
                        "remaining_time": 1.169644299,
                        "test": [
                          0.5118681728
                        ]
                      },
                      {
                        "learn": [
                          0.2863756816
                        ],
                        "iteration": 155,
                        "passed_time": 0.5376253949,
                        "remaining_time": 1.185532922,
                        "test": [
                          0.5118273337
                        ]
                      },
                      {
                        "learn": [
                          0.2851652039
                        ],
                        "iteration": 156,
                        "passed_time": 0.5394100627,
                        "remaining_time": 1.178456379,
                        "test": [
                          0.5120454724
                        ]
                      },
                      {
                        "learn": [
                          0.2839839194
                        ],
                        "iteration": 157,
                        "passed_time": 0.5410972195,
                        "remaining_time": 1.171235754,
                        "test": [
                          0.5128113471
                        ]
                      },
                      {
                        "learn": [
                          0.2837284141
                        ],
                        "iteration": 158,
                        "passed_time": 0.5454542476,
                        "remaining_time": 1.169810682,
                        "test": [
                          0.512201738
                        ]
                      },
                      {
                        "learn": [
                          0.282922162
                        ],
                        "iteration": 159,
                        "passed_time": 0.5491128835,
                        "remaining_time": 1.166864877,
                        "test": [
                          0.5125333001
                        ]
                      },
                      {
                        "learn": [
                          0.2822886043
                        ],
                        "iteration": 160,
                        "passed_time": 0.5508272345,
                        "remaining_time": 1.159816351,
                        "test": [
                          0.5129060409
                        ]
                      },
                      {
                        "learn": [
                          0.2812222905
                        ],
                        "iteration": 161,
                        "passed_time": 0.552422538,
                        "remaining_time": 1.152585295,
                        "test": [
                          0.513125925
                        ]
                      },
                      {
                        "learn": [
                          0.2804506355
                        ],
                        "iteration": 162,
                        "passed_time": 0.5577550111,
                        "remaining_time": 1.153149931,
                        "test": [
                          0.513436617
                        ]
                      },
                      {
                        "learn": [
                          0.2794300715
                        ],
                        "iteration": 163,
                        "passed_time": 0.5592613516,
                        "remaining_time": 1.145803745,
                        "test": [
                          0.5138793013
                        ]
                      },
                      {
                        "learn": [
                          0.2783463796
                        ],
                        "iteration": 164,
                        "passed_time": 0.5607775077,
                        "remaining_time": 1.138548273,
                        "test": [
                          0.5146082586
                        ]
                      },
                      {
                        "learn": [
                          0.2777670225
                        ],
                        "iteration": 165,
                        "passed_time": 0.5744857688,
                        "remaining_time": 1.155893053,
                        "test": [
                          0.5145512995
                        ]
                      },
                      {
                        "learn": [
                          0.2770168516
                        ],
                        "iteration": 166,
                        "passed_time": 0.5765448531,
                        "remaining_time": 1.149637342,
                        "test": [
                          0.5139629391
                        ]
                      },
                      {
                        "learn": [
                          0.276638137
                        ],
                        "iteration": 167,
                        "passed_time": 0.5782393954,
                        "remaining_time": 1.142711186,
                        "test": [
                          0.514104393
                        ]
                      },
                      {
                        "learn": [
                          0.2755106555
                        ],
                        "iteration": 168,
                        "passed_time": 0.583550047,
                        "remaining_time": 1.142929382,
                        "test": [
                          0.5142590005
                        ]
                      },
                      {
                        "learn": [
                          0.2746287452
                        ],
                        "iteration": 169,
                        "passed_time": 0.5862882782,
                        "remaining_time": 1.138089011,
                        "test": [
                          0.5149474462
                        ]
                      },
                      {
                        "learn": [
                          0.273753643
                        ],
                        "iteration": 170,
                        "passed_time": 0.5879578233,
                        "remaining_time": 1.131217099,
                        "test": [
                          0.5156775075
                        ]
                      },
                      {
                        "learn": [
                          0.2730324003
                        ],
                        "iteration": 171,
                        "passed_time": 0.5903004489,
                        "remaining_time": 1.125689228,
                        "test": [
                          0.5158451172
                        ]
                      },
                      {
                        "learn": [
                          0.2729590734
                        ],
                        "iteration": 172,
                        "passed_time": 0.595225792,
                        "remaining_time": 1.125079965,
                        "test": [
                          0.5158462641
                        ]
                      },
                      {
                        "learn": [
                          0.272447798
                        ],
                        "iteration": 173,
                        "passed_time": 0.5969193979,
                        "remaining_time": 1.118366228,
                        "test": [
                          0.5158444542
                        ]
                      },
                      {
                        "learn": [
                          0.2712568707
                        ],
                        "iteration": 174,
                        "passed_time": 0.5985995078,
                        "remaining_time": 1.1116848,
                        "test": [
                          0.5160452708
                        ]
                      },
                      {
                        "learn": [
                          0.2705446879
                        ],
                        "iteration": 175,
                        "passed_time": 0.6037497704,
                        "remaining_time": 1.111448441,
                        "test": [
                          0.5173994728
                        ]
                      },
                      {
                        "learn": [
                          0.2701587677
                        ],
                        "iteration": 176,
                        "passed_time": 0.6065346467,
                        "remaining_time": 1.106840061,
                        "test": [
                          0.5172619633
                        ]
                      },
                      {
                        "learn": [
                          0.2696403662
                        ],
                        "iteration": 177,
                        "passed_time": 0.6082544062,
                        "remaining_time": 1.100325387,
                        "test": [
                          0.5170846549
                        ]
                      },
                      {
                        "learn": [
                          0.2686282264
                        ],
                        "iteration": 178,
                        "passed_time": 0.6099241577,
                        "remaining_time": 1.093774607,
                        "test": [
                          0.5180714644
                        ]
                      },
                      {
                        "learn": [
                          0.2679613961
                        ],
                        "iteration": 179,
                        "passed_time": 0.6150063978,
                        "remaining_time": 1.093344707,
                        "test": [
                          0.5188277007
                        ]
                      },
                      {
                        "learn": [
                          0.2672742738
                        ],
                        "iteration": 180,
                        "passed_time": 0.6214040967,
                        "remaining_time": 1.095181806,
                        "test": [
                          0.5187540413
                        ]
                      },
                      {
                        "learn": [
                          0.2666328218
                        ],
                        "iteration": 181,
                        "passed_time": 0.624789246,
                        "remaining_time": 1.091664727,
                        "test": [
                          0.5193174128
                        ]
                      },
                      {
                        "learn": [
                          0.2656481001
                        ],
                        "iteration": 182,
                        "passed_time": 0.6264405126,
                        "remaining_time": 1.085145587,
                        "test": [
                          0.5202820356
                        ]
                      },
                      {
                        "learn": [
                          0.2648714913
                        ],
                        "iteration": 183,
                        "passed_time": 0.6281800344,
                        "remaining_time": 1.078830929,
                        "test": [
                          0.5209984963
                        ]
                      },
                      {
                        "learn": [
                          0.2642430729
                        ],
                        "iteration": 184,
                        "passed_time": 0.6327459555,
                        "remaining_time": 1.077378248,
                        "test": [
                          0.5218633551
                        ]
                      },
                      {
                        "learn": [
                          0.2635542552
                        ],
                        "iteration": 185,
                        "passed_time": 0.6364575846,
                        "remaining_time": 1.074449901,
                        "test": [
                          0.5225950812
                        ]
                      },
                      {
                        "learn": [
                          0.2630516158
                        ],
                        "iteration": 186,
                        "passed_time": 0.6392895192,
                        "remaining_time": 1.070040746,
                        "test": [
                          0.5229908218
                        ]
                      },
                      {
                        "learn": [
                          0.2626825968
                        ],
                        "iteration": 187,
                        "passed_time": 0.640967113,
                        "remaining_time": 1.063732656,
                        "test": [
                          0.5232003417
                        ]
                      },
                      {
                        "learn": [
                          0.262333605
                        ],
                        "iteration": 188,
                        "passed_time": 0.6454741513,
                        "remaining_time": 1.062129424,
                        "test": [
                          0.5234988514
                        ]
                      },
                      {
                        "learn": [
                          0.2620004548
                        ],
                        "iteration": 189,
                        "passed_time": 0.6488609108,
                        "remaining_time": 1.058667802,
                        "test": [
                          0.5235293153
                        ]
                      },
                      {
                        "learn": [
                          0.2613850435
                        ],
                        "iteration": 190,
                        "passed_time": 0.6518444619,
                        "remaining_time": 1.054554653,
                        "test": [
                          0.5243830232
                        ]
                      },
                      {
                        "learn": [
                          0.2604851193
                        ],
                        "iteration": 191,
                        "passed_time": 0.6534566762,
                        "remaining_time": 1.048253418,
                        "test": [
                          0.5250271998
                        ]
                      },
                      {
                        "learn": [
                          0.2594813241
                        ],
                        "iteration": 192,
                        "passed_time": 0.6550694964,
                        "remaining_time": 1.042001738,
                        "test": [
                          0.5258941668
                        ]
                      },
                      {
                        "learn": [
                          0.2582306332
                        ],
                        "iteration": 193,
                        "passed_time": 0.6611270791,
                        "remaining_time": 1.042808692,
                        "test": [
                          0.5268359571
                        ]
                      },
                      {
                        "learn": [
                          0.2577295303
                        ],
                        "iteration": 194,
                        "passed_time": 0.6627921321,
                        "remaining_time": 1.036674873,
                        "test": [
                          0.5260392555
                        ]
                      },
                      {
                        "learn": [
                          0.2569939295
                        ],
                        "iteration": 195,
                        "passed_time": 0.6643375375,
                        "remaining_time": 1.030401079,
                        "test": [
                          0.5263798961
                        ]
                      },
                      {
                        "learn": [
                          0.2565677166
                        ],
                        "iteration": 196,
                        "passed_time": 0.6680171694,
                        "remaining_time": 1.02745788,
                        "test": [
                          0.5269544829
                        ]
                      },
                      {
                        "learn": [
                          0.2561266157
                        ],
                        "iteration": 197,
                        "passed_time": 0.668990782,
                        "remaining_time": 1.02037988,
                        "test": [
                          0.5271913452
                        ]
                      },
                      {
                        "learn": [
                          0.2555938562
                        ],
                        "iteration": 198,
                        "passed_time": 0.670073689,
                        "remaining_time": 1.013528545,
                        "test": [
                          0.5264627492
                        ]
                      },
                      {
                        "learn": [
                          0.2550360892
                        ],
                        "iteration": 199,
                        "passed_time": 0.6711705225,
                        "remaining_time": 1.006755784,
                        "test": [
                          0.5265599369
                        ]
                      },
                      {
                        "learn": [
                          0.254513979
                        ],
                        "iteration": 200,
                        "passed_time": 0.6725075892,
                        "remaining_time": 1.000396862,
                        "test": [
                          0.5257515039
                        ]
                      },
                      {
                        "learn": [
                          0.2540453805
                        ],
                        "iteration": 201,
                        "passed_time": 0.6741068167,
                        "remaining_time": 0.9944744127,
                        "test": [
                          0.526584618
                        ]
                      },
                      {
                        "learn": [
                          0.2535523838
                        ],
                        "iteration": 202,
                        "passed_time": 0.6757248618,
                        "remaining_time": 0.9886220885,
                        "test": [
                          0.5265349882
                        ]
                      },
                      {
                        "learn": [
                          0.2528007825
                        ],
                        "iteration": 203,
                        "passed_time": 0.6768074616,
                        "remaining_time": 0.982034356,
                        "test": [
                          0.526914883
                        ]
                      },
                      {
                        "learn": [
                          0.2522655593
                        ],
                        "iteration": 204,
                        "passed_time": 0.6778211737,
                        "remaining_time": 0.9754012012,
                        "test": [
                          0.5269179226
                        ]
                      },
                      {
                        "learn": [
                          0.2513919936
                        ],
                        "iteration": 205,
                        "passed_time": 0.6788039483,
                        "remaining_time": 0.9687784505,
                        "test": [
                          0.5271522371
                        ]
                      },
                      {
                        "learn": [
                          0.2512594859
                        ],
                        "iteration": 206,
                        "passed_time": 0.6832379941,
                        "remaining_time": 0.967095325,
                        "test": [
                          0.5273065193
                        ]
                      },
                      {
                        "learn": [
                          0.2506216102
                        ],
                        "iteration": 207,
                        "passed_time": 0.6847718597,
                        "remaining_time": 0.9613143415,
                        "test": [
                          0.5274600229
                        ]
                      },
                      {
                        "learn": [
                          0.2496823205
                        ],
                        "iteration": 208,
                        "passed_time": 0.6860069711,
                        "remaining_time": 0.9551580315,
                        "test": [
                          0.5281189366
                        ]
                      },
                      {
                        "learn": [
                          0.2492217753
                        ],
                        "iteration": 209,
                        "passed_time": 0.687076744,
                        "remaining_time": 0.9488202656,
                        "test": [
                          0.5274492431
                        ]
                      },
                      {
                        "learn": [
                          0.2485861778
                        ],
                        "iteration": 210,
                        "passed_time": 0.6881641046,
                        "remaining_time": 0.9425565224,
                        "test": [
                          0.5279015962
                        ]
                      },
                      {
                        "learn": [
                          0.2479412821
                        ],
                        "iteration": 211,
                        "passed_time": 0.6895373757,
                        "remaining_time": 0.9367300198,
                        "test": [
                          0.5288827355
                        ]
                      },
                      {
                        "learn": [
                          0.2471087774
                        ],
                        "iteration": 212,
                        "passed_time": 0.6911690604,
                        "remaining_time": 0.9312935227,
                        "test": [
                          0.530350353
                        ]
                      },
                      {
                        "learn": [
                          0.2467396789
                        ],
                        "iteration": 213,
                        "passed_time": 0.6928000183,
                        "remaining_time": 0.9258916132,
                        "test": [
                          0.5299134202
                        ]
                      },
                      {
                        "learn": [
                          0.2462946044
                        ],
                        "iteration": 214,
                        "passed_time": 0.6938571744,
                        "remaining_time": 0.9197641614,
                        "test": [
                          0.5310421115
                        ]
                      },
                      {
                        "learn": [
                          0.2460043695
                        ],
                        "iteration": 215,
                        "passed_time": 0.694849251,
                        "remaining_time": 0.9135980892,
                        "test": [
                          0.5310664056
                        ]
                      },
                      {
                        "learn": [
                          0.2456651529
                        ],
                        "iteration": 216,
                        "passed_time": 0.6958353044,
                        "remaining_time": 0.9074718486,
                        "test": [
                          0.5317226314
                        ]
                      },
                      {
                        "learn": [
                          0.2450216611
                        ],
                        "iteration": 217,
                        "passed_time": 0.6969375119,
                        "remaining_time": 0.90154302,
                        "test": [
                          0.532397474
                        ]
                      },
                      {
                        "learn": [
                          0.2444365289
                        ],
                        "iteration": 218,
                        "passed_time": 0.6984894674,
                        "remaining_time": 0.896235344,
                        "test": [
                          0.5325381127
                        ]
                      },
                      {
                        "learn": [
                          0.2437701225
                        ],
                        "iteration": 219,
                        "passed_time": 0.6996564717,
                        "remaining_time": 0.8904718731,
                        "test": [
                          0.5325319701
                        ]
                      },
                      {
                        "learn": [
                          0.2427058485
                        ],
                        "iteration": 220,
                        "passed_time": 0.701306615,
                        "remaining_time": 0.8853599348,
                        "test": [
                          0.5323517985
                        ]
                      },
                      {
                        "learn": [
                          0.2423800362
                        ],
                        "iteration": 221,
                        "passed_time": 0.7028967627,
                        "remaining_time": 0.8802040542,
                        "test": [
                          0.5325927054
                        ]
                      },
                      {
                        "learn": [
                          0.2420466741
                        ],
                        "iteration": 222,
                        "passed_time": 0.7054495095,
                        "remaining_time": 0.8762758481,
                        "test": [
                          0.5326676373
                        ]
                      },
                      {
                        "learn": [
                          0.241651588
                        ],
                        "iteration": 223,
                        "passed_time": 0.7071014183,
                        "remaining_time": 0.8712499619,
                        "test": [
                          0.5328884037
                        ]
                      },
                      {
                        "learn": [
                          0.2414619393
                        ],
                        "iteration": 224,
                        "passed_time": 0.7087939428,
                        "remaining_time": 0.8663037078,
                        "test": [
                          0.5330518052
                        ]
                      },
                      {
                        "learn": [
                          0.2413093514
                        ],
                        "iteration": 225,
                        "passed_time": 0.7151670754,
                        "remaining_time": 0.8670609675,
                        "test": [
                          0.532920285
                        ]
                      },
                      {
                        "learn": [
                          0.2407955594
                        ],
                        "iteration": 226,
                        "passed_time": 0.7168618223,
                        "remaining_time": 0.8621289757,
                        "test": [
                          0.5328478605
                        ]
                      },
                      {
                        "learn": [
                          0.2397155232
                        ],
                        "iteration": 227,
                        "passed_time": 0.7185392302,
                        "remaining_time": 0.8572046957,
                        "test": [
                          0.5327499101
                        ]
                      },
                      {
                        "learn": [
                          0.2396357059
                        ],
                        "iteration": 228,
                        "passed_time": 0.7237896489,
                        "remaining_time": 0.8565370955,
                        "test": [
                          0.532652136
                        ]
                      },
                      {
                        "learn": [
                          0.2389092445
                        ],
                        "iteration": 229,
                        "passed_time": 0.7254660977,
                        "remaining_time": 0.8516341147,
                        "test": [
                          0.5322347468
                        ]
                      },
                      {
                        "learn": [
                          0.2385511398
                        ],
                        "iteration": 230,
                        "passed_time": 0.7296135675,
                        "remaining_time": 0.8496365786,
                        "test": [
                          0.5328822872
                        ]
                      },
                      {
                        "learn": [
                          0.2379128668
                        ],
                        "iteration": 231,
                        "passed_time": 0.7317184641,
                        "remaining_time": 0.8452609844,
                        "test": [
                          0.5315640404
                        ]
                      },
                      {
                        "learn": [
                          0.2376588451
                        ],
                        "iteration": 232,
                        "passed_time": 0.7391705794,
                        "remaining_time": 0.8470323807,
                        "test": [
                          0.5312620908
                        ]
                      },
                      {
                        "learn": [
                          0.2368142075
                        ],
                        "iteration": 233,
                        "passed_time": 0.7408714522,
                        "remaining_time": 0.8421872064,
                        "test": [
                          0.5328134167
                        ]
                      },
                      {
                        "learn": [
                          0.2363422712
                        ],
                        "iteration": 234,
                        "passed_time": 0.742369153,
                        "remaining_time": 0.8371396831,
                        "test": [
                          0.5322042571
                        ]
                      },
                      {
                        "learn": [
                          0.2358331945
                        ],
                        "iteration": 235,
                        "passed_time": 0.7441964542,
                        "remaining_time": 0.8324909487,
                        "test": [
                          0.5327803148
                        ]
                      },
                      {
                        "learn": [
                          0.2353709009
                        ],
                        "iteration": 236,
                        "passed_time": 0.7457504216,
                        "remaining_time": 0.8275627041,
                        "test": [
                          0.5328848296
                        ]
                      },
                      {
                        "learn": [
                          0.2343850666
                        ],
                        "iteration": 237,
                        "passed_time": 0.7467641215,
                        "remaining_time": 0.8220680665,
                        "test": [
                          0.5331034851
                        ]
                      },
                      {
                        "learn": [
                          0.2328792678
                        ],
                        "iteration": 238,
                        "passed_time": 0.7478571811,
                        "remaining_time": 0.8166975911,
                        "test": [
                          0.5326327248
                        ]
                      },
                      {
                        "learn": [
                          0.2326378293
                        ],
                        "iteration": 239,
                        "passed_time": 0.7493956006,
                        "remaining_time": 0.811845234,
                        "test": [
                          0.5323556733
                        ]
                      },
                      {
                        "learn": [
                          0.2311242951
                        ],
                        "iteration": 240,
                        "passed_time": 0.7507660047,
                        "remaining_time": 0.8068398142,
                        "test": [
                          0.5323682715
                        ]
                      },
                      {
                        "learn": [
                          0.2306647566
                        ],
                        "iteration": 241,
                        "passed_time": 0.7520629313,
                        "remaining_time": 0.8017861004,
                        "test": [
                          0.5318717469
                        ]
                      },
                      {
                        "learn": [
                          0.2303474214
                        ],
                        "iteration": 242,
                        "passed_time": 0.753156486,
                        "remaining_time": 0.7965482177,
                        "test": [
                          0.530924088
                        ]
                      },
                      {
                        "learn": [
                          0.2291463481
                        ],
                        "iteration": 243,
                        "passed_time": 0.7548491359,
                        "remaining_time": 0.7919728639,
                        "test": [
                          0.5320060713
                        ]
                      },
                      {
                        "learn": [
                          0.2290022108
                        ],
                        "iteration": 244,
                        "passed_time": 0.7561700878,
                        "remaining_time": 0.7870341731,
                        "test": [
                          0.5321162466
                        ]
                      },
                      {
                        "learn": [
                          0.2285267512
                        ],
                        "iteration": 245,
                        "passed_time": 0.7575139291,
                        "remaining_time": 0.7821485285,
                        "test": [
                          0.5327286667
                        ]
                      },
                      {
                        "learn": [
                          0.2280097008
                        ],
                        "iteration": 246,
                        "passed_time": 0.7585656567,
                        "remaining_time": 0.7769923528,
                        "test": [
                          0.5326055304
                        ]
                      },
                      {
                        "learn": [
                          0.2274287012
                        ],
                        "iteration": 247,
                        "passed_time": 0.7597282539,
                        "remaining_time": 0.7719819354,
                        "test": [
                          0.5327426609
                        ]
                      },
                      {
                        "learn": [
                          0.226799753
                        ],
                        "iteration": 248,
                        "passed_time": 0.7608145303,
                        "remaining_time": 0.7669254904,
                        "test": [
                          0.5335628329
                        ]
                      },
                      {
                        "learn": [
                          0.2261034913
                        ],
                        "iteration": 249,
                        "passed_time": 0.7618431603,
                        "remaining_time": 0.7618431603,
                        "test": [
                          0.5339055262
                        ]
                      },
                      {
                        "learn": [
                          0.2253113323
                        ],
                        "iteration": 250,
                        "passed_time": 0.7629519347,
                        "remaining_time": 0.7568726364,
                        "test": [
                          0.5349397291
                        ]
                      },
                      {
                        "learn": [
                          0.2244242032
                        ],
                        "iteration": 251,
                        "passed_time": 0.7646599657,
                        "remaining_time": 0.7525225059,
                        "test": [
                          0.536119275
                        ]
                      },
                      {
                        "learn": [
                          0.2237731616
                        ],
                        "iteration": 252,
                        "passed_time": 0.7662141099,
                        "remaining_time": 0.7480430243,
                        "test": [
                          0.5353963144
                        ]
                      },
                      {
                        "learn": [
                          0.2228029304
                        ],
                        "iteration": 253,
                        "passed_time": 0.7678244382,
                        "remaining_time": 0.7436409913,
                        "test": [
                          0.5365387242
                        ]
                      },
                      {
                        "learn": [
                          0.222127835
                        ],
                        "iteration": 254,
                        "passed_time": 0.7695481653,
                        "remaining_time": 0.7393698058,
                        "test": [
                          0.5372714772
                        ]
                      },
                      {
                        "learn": [
                          0.2217201922
                        ],
                        "iteration": 255,
                        "passed_time": 0.7758105919,
                        "remaining_time": 0.7394444704,
                        "test": [
                          0.5373438932
                        ]
                      },
                      {
                        "learn": [
                          0.2215071784
                        ],
                        "iteration": 256,
                        "passed_time": 0.7792251647,
                        "remaining_time": 0.7367771013,
                        "test": [
                          0.5376092461
                        ]
                      },
                      {
                        "learn": [
                          0.2203856972
                        ],
                        "iteration": 257,
                        "passed_time": 0.7816112088,
                        "remaining_time": 0.7331391959,
                        "test": [
                          0.5382916884
                        ]
                      },
                      {
                        "learn": [
                          0.2198457056
                        ],
                        "iteration": 258,
                        "passed_time": 0.7832048195,
                        "remaining_time": 0.7287735966,
                        "test": [
                          0.5394802837
                        ]
                      },
                      {
                        "learn": [
                          0.2195161581
                        ],
                        "iteration": 259,
                        "passed_time": 0.79238526,
                        "remaining_time": 0.7314325477,
                        "test": [
                          0.5392529216
                        ]
                      },
                      {
                        "learn": [
                          0.2182832294
                        ],
                        "iteration": 260,
                        "passed_time": 0.8110999726,
                        "remaining_time": 0.7427313926,
                        "test": [
                          0.5389243783
                        ]
                      },
                      {
                        "learn": [
                          0.2172069682
                        ],
                        "iteration": 261,
                        "passed_time": 0.8128441657,
                        "remaining_time": 0.7383851582,
                        "test": [
                          0.5393382372
                        ]
                      },
                      {
                        "learn": [
                          0.2167154948
                        ],
                        "iteration": 262,
                        "passed_time": 0.8144891364,
                        "remaining_time": 0.7339692978,
                        "test": [
                          0.5396618773
                        ]
                      },
                      {
                        "learn": [
                          0.2155328327
                        ],
                        "iteration": 263,
                        "passed_time": 0.8173291674,
                        "remaining_time": 0.7306427406,
                        "test": [
                          0.539317681
                        ]
                      },
                      {
                        "learn": [
                          0.2147783836
                        ],
                        "iteration": 264,
                        "passed_time": 0.8190425365,
                        "remaining_time": 0.7263207399,
                        "test": [
                          0.5384007796
                        ]
                      },
                      {
                        "learn": [
                          0.2147262626
                        ],
                        "iteration": 265,
                        "passed_time": 0.8247872286,
                        "remaining_time": 0.7255647049,
                        "test": [
                          0.5382976437
                        ]
                      },
                      {
                        "learn": [
                          0.2143138117
                        ],
                        "iteration": 266,
                        "passed_time": 0.8265366934,
                        "remaining_time": 0.7212848298,
                        "test": [
                          0.5376866805
                        ]
                      },
                      {
                        "learn": [
                          0.2141785489
                        ],
                        "iteration": 267,
                        "passed_time": 0.8282269691,
                        "remaining_time": 0.7169726001,
                        "test": [
                          0.5379714791
                        ]
                      },
                      {
                        "learn": [
                          0.2139568594
                        ],
                        "iteration": 268,
                        "passed_time": 0.8355831654,
                        "remaining_time": 0.7175453948,
                        "test": [
                          0.5377647579
                        ]
                      },
                      {
                        "learn": [
                          0.2128561603
                        ],
                        "iteration": 269,
                        "passed_time": 0.8400696167,
                        "remaining_time": 0.7156148587,
                        "test": [
                          0.538439897
                        ]
                      },
                      {
                        "learn": [
                          0.2125258578
                        ],
                        "iteration": 270,
                        "passed_time": 0.8413960318,
                        "remaining_time": 0.7109951708,
                        "test": [
                          0.5388891934
                        ]
                      },
                      {
                        "learn": [
                          0.2120684915
                        ],
                        "iteration": 271,
                        "passed_time": 0.8425004067,
                        "remaining_time": 0.7062135762,
                        "test": [
                          0.5401037398
                        ]
                      },
                      {
                        "learn": [
                          0.2111531893
                        ],
                        "iteration": 272,
                        "passed_time": 0.8447237099,
                        "remaining_time": 0.7023893119,
                        "test": [
                          0.5410175265
                        ]
                      },
                      {
                        "learn": [
                          0.2102239529
                        ],
                        "iteration": 273,
                        "passed_time": 0.846341264,
                        "remaining_time": 0.698077101,
                        "test": [
                          0.5404534599
                        ]
                      },
                      {
                        "learn": [
                          0.2099106444
                        ],
                        "iteration": 274,
                        "passed_time": 0.8478802936,
                        "remaining_time": 0.6937202402,
                        "test": [
                          0.5409015092
                        ]
                      },
                      {
                        "learn": [
                          0.2091559437
                        ],
                        "iteration": 275,
                        "passed_time": 0.856689648,
                        "remaining_time": 0.695284352,
                        "test": [
                          0.5419495244
                        ]
                      },
                      {
                        "learn": [
                          0.2084669405
                        ],
                        "iteration": 276,
                        "passed_time": 0.8582449333,
                        "remaining_time": 0.6909336466,
                        "test": [
                          0.5424925783
                        ]
                      },
                      {
                        "learn": [
                          0.2077627314
                        ],
                        "iteration": 277,
                        "passed_time": 0.8597186482,
                        "remaining_time": 0.6865379133,
                        "test": [
                          0.5421447705
                        ]
                      },
                      {
                        "learn": [
                          0.2068940798
                        ],
                        "iteration": 278,
                        "passed_time": 0.8611838476,
                        "remaining_time": 0.6821563811,
                        "test": [
                          0.5422575745
                        ]
                      },
                      {
                        "learn": [
                          0.2064077987
                        ],
                        "iteration": 279,
                        "passed_time": 0.8698745996,
                        "remaining_time": 0.6834728997,
                        "test": [
                          0.5415902531
                        ]
                      },
                      {
                        "learn": [
                          0.2060922517
                        ],
                        "iteration": 280,
                        "passed_time": 0.8710846287,
                        "remaining_time": 0.6788880203,
                        "test": [
                          0.5410263646
                        ]
                      },
                      {
                        "learn": [
                          0.2055359946
                        ],
                        "iteration": 281,
                        "passed_time": 0.8748080351,
                        "remaining_time": 0.6762700413,
                        "test": [
                          0.541474101
                        ]
                      },
                      {
                        "learn": [
                          0.2048714691
                        ],
                        "iteration": 282,
                        "passed_time": 0.875971796,
                        "remaining_time": 0.6716815538,
                        "test": [
                          0.5425141341
                        ]
                      },
                      {
                        "learn": [
                          0.2045822806
                        ],
                        "iteration": 283,
                        "passed_time": 0.8774550439,
                        "remaining_time": 0.6673601742,
                        "test": [
                          0.5430297445
                        ]
                      },
                      {
                        "learn": [
                          0.2039104038
                        ],
                        "iteration": 284,
                        "passed_time": 0.8810809306,
                        "remaining_time": 0.664675088,
                        "test": [
                          0.5432722161
                        ]
                      },
                      {
                        "learn": [
                          0.2036150164
                        ],
                        "iteration": 285,
                        "passed_time": 0.8864710433,
                        "remaining_time": 0.6633035079,
                        "test": [
                          0.5433594001
                        ]
                      },
                      {
                        "learn": [
                          0.2033881346
                        ],
                        "iteration": 286,
                        "passed_time": 0.8877897569,
                        "remaining_time": 0.6588822934,
                        "test": [
                          0.5436132122
                        ]
                      },
                      {
                        "learn": [
                          0.2030042675
                        ],
                        "iteration": 287,
                        "passed_time": 0.9002957898,
                        "remaining_time": 0.6627177342,
                        "test": [
                          0.5443781146
                        ]
                      },
                      {
                        "learn": [
                          0.2021652328
                        ],
                        "iteration": 288,
                        "passed_time": 0.9014813995,
                        "remaining_time": 0.658175001,
                        "test": [
                          0.545562189
                        ]
                      },
                      {
                        "learn": [
                          0.2012646728
                        ],
                        "iteration": 289,
                        "passed_time": 0.9026394964,
                        "remaining_time": 0.6536354974,
                        "test": [
                          0.5456036548
                        ]
                      },
                      {
                        "learn": [
                          0.1998329825
                        ],
                        "iteration": 290,
                        "passed_time": 0.9146531838,
                        "remaining_time": 0.6569158605,
                        "test": [
                          0.5457205847
                        ]
                      },
                      {
                        "learn": [
                          0.1995274756
                        ],
                        "iteration": 291,
                        "passed_time": 0.9159467575,
                        "remaining_time": 0.6524552245,
                        "test": [
                          0.5463095912
                        ]
                      },
                      {
                        "learn": [
                          0.1993151771
                        ],
                        "iteration": 292,
                        "passed_time": 0.9302614389,
                        "remaining_time": 0.6572154193,
                        "test": [
                          0.5462987047
                        ]
                      },
                      {
                        "learn": [
                          0.1985361311
                        ],
                        "iteration": 293,
                        "passed_time": 0.9317526501,
                        "remaining_time": 0.6528607004,
                        "test": [
                          0.5466765401
                        ]
                      },
                      {
                        "learn": [
                          0.1984232399
                        ],
                        "iteration": 294,
                        "passed_time": 0.9394375927,
                        "remaining_time": 0.6528295136,
                        "test": [
                          0.5469419317
                        ]
                      },
                      {
                        "learn": [
                          0.1973061694
                        ],
                        "iteration": 295,
                        "passed_time": 0.9418529203,
                        "remaining_time": 0.6491148505,
                        "test": [
                          0.5470766168
                        ]
                      },
                      {
                        "learn": [
                          0.1966617902
                        ],
                        "iteration": 296,
                        "passed_time": 0.9436804524,
                        "remaining_time": 0.6450071779,
                        "test": [
                          0.5479095687
                        ]
                      },
                      {
                        "learn": [
                          0.1963736084
                        ],
                        "iteration": 297,
                        "passed_time": 0.9500722868,
                        "remaining_time": 0.6440087313,
                        "test": [
                          0.5470591313
                        ]
                      },
                      {
                        "learn": [
                          0.1955041356
                        ],
                        "iteration": 298,
                        "passed_time": 0.9594119748,
                        "remaining_time": 0.6449558761,
                        "test": [
                          0.5479062962
                        ]
                      },
                      {
                        "learn": [
                          0.1945818
                        ],
                        "iteration": 299,
                        "passed_time": 0.960538595,
                        "remaining_time": 0.6403590633,
                        "test": [
                          0.5489285873
                        ]
                      },
                      {
                        "learn": [
                          0.1942727831
                        ],
                        "iteration": 300,
                        "passed_time": 0.9616714996,
                        "remaining_time": 0.6357894632,
                        "test": [
                          0.5495859245
                        ]
                      },
                      {
                        "learn": [
                          0.1938554181
                        ],
                        "iteration": 301,
                        "passed_time": 0.9626787932,
                        "remaining_time": 0.6311602684,
                        "test": [
                          0.5505058195
                        ]
                      },
                      {
                        "learn": [
                          0.1936423911
                        ],
                        "iteration": 302,
                        "passed_time": 0.9852429387,
                        "remaining_time": 0.6405704915,
                        "test": [
                          0.5502572787
                        ]
                      },
                      {
                        "learn": [
                          0.1925055981
                        ],
                        "iteration": 303,
                        "passed_time": 0.9984152985,
                        "remaining_time": 0.6437151267,
                        "test": [
                          0.5503201707
                        ]
                      },
                      {
                        "learn": [
                          0.1917572419
                        ],
                        "iteration": 304,
                        "passed_time": 0.9997101891,
                        "remaining_time": 0.6391589733,
                        "test": [
                          0.550154874
                        ]
                      },
                      {
                        "learn": [
                          0.1908830404
                        ],
                        "iteration": 305,
                        "passed_time": 1.001238822,
                        "remaining_time": 0.6347723251,
                        "test": [
                          0.5502858492
                        ]
                      },
                      {
                        "learn": [
                          0.1906612184
                        ],
                        "iteration": 306,
                        "passed_time": 1.002369156,
                        "remaining_time": 0.6301538994,
                        "test": [
                          0.5505157102
                        ]
                      },
                      {
                        "learn": [
                          0.1899216175
                        ],
                        "iteration": 307,
                        "passed_time": 1.003567568,
                        "remaining_time": 0.6256005622,
                        "test": [
                          0.5501876147
                        ]
                      },
                      {
                        "learn": [
                          0.1891627577
                        ],
                        "iteration": 308,
                        "passed_time": 1.027124545,
                        "remaining_time": 0.6348892817,
                        "test": [
                          0.5507918255
                        ]
                      },
                      {
                        "learn": [
                          0.1884333955
                        ],
                        "iteration": 309,
                        "passed_time": 1.029028039,
                        "remaining_time": 0.6306946043,
                        "test": [
                          0.551449295
                        ]
                      },
                      {
                        "learn": [
                          0.1876411703
                        ],
                        "iteration": 310,
                        "passed_time": 1.03287811,
                        "remaining_time": 0.6276976294,
                        "test": [
                          0.5515648216
                        ]
                      },
                      {
                        "learn": [
                          0.1874978013
                        ],
                        "iteration": 311,
                        "passed_time": 1.036910146,
                        "remaining_time": 0.6248048318,
                        "test": [
                          0.5515001255
                        ]
                      },
                      {
                        "learn": [
                          0.1870096657
                        ],
                        "iteration": 312,
                        "passed_time": 1.044740641,
                        "remaining_time": 0.624174121,
                        "test": [
                          0.5520748064
                        ]
                      },
                      {
                        "learn": [
                          0.1868902842
                        ],
                        "iteration": 313,
                        "passed_time": 1.0467597,
                        "remaining_time": 0.6200551091,
                        "test": [
                          0.5519831849
                        ]
                      },
                      {
                        "learn": [
                          0.1864296065
                        ],
                        "iteration": 314,
                        "passed_time": 1.048125199,
                        "remaining_time": 0.6155655928,
                        "test": [
                          0.5526741693
                        ]
                      },
                      {
                        "learn": [
                          0.1855427292
                        ],
                        "iteration": 315,
                        "passed_time": 1.049275454,
                        "remaining_time": 0.6109705175,
                        "test": [
                          0.5532321234
                        ]
                      },
                      {
                        "learn": [
                          0.1854444345
                        ],
                        "iteration": 316,
                        "passed_time": 1.050396318,
                        "remaining_time": 0.6063802087,
                        "test": [
                          0.5528471417
                        ]
                      },
                      {
                        "learn": [
                          0.1844514211
                        ],
                        "iteration": 317,
                        "passed_time": 1.052027642,
                        "remaining_time": 0.6021038708,
                        "test": [
                          0.5530022528
                        ]
                      },
                      {
                        "learn": [
                          0.1833809482
                        ],
                        "iteration": 318,
                        "passed_time": 1.053667504,
                        "remaining_time": 0.59784896,
                        "test": [
                          0.5526604298
                        ]
                      },
                      {
                        "learn": [
                          0.1823271645
                        ],
                        "iteration": 319,
                        "passed_time": 1.058558728,
                        "remaining_time": 0.5954392845,
                        "test": [
                          0.5524146841
                        ]
                      },
                      {
                        "learn": [
                          0.1816275782
                        ],
                        "iteration": 320,
                        "passed_time": 1.059748314,
                        "remaining_time": 0.5909499946,
                        "test": [
                          0.5526504359
                        ]
                      },
                      {
                        "learn": [
                          0.1813121902
                        ],
                        "iteration": 321,
                        "passed_time": 1.061295541,
                        "remaining_time": 0.5866789015,
                        "test": [
                          0.5524173681
                        ]
                      },
                      {
                        "learn": [
                          0.1808326112
                        ],
                        "iteration": 322,
                        "passed_time": 1.062674637,
                        "remaining_time": 0.5823325407,
                        "test": [
                          0.5518368631
                        ]
                      },
                      {
                        "learn": [
                          0.1805437936
                        ],
                        "iteration": 323,
                        "passed_time": 1.065487803,
                        "remaining_time": 0.5787834981,
                        "test": [
                          0.5516522662
                        ]
                      },
                      {
                        "learn": [
                          0.1796547307
                        ],
                        "iteration": 324,
                        "passed_time": 1.067047308,
                        "remaining_time": 0.5745639348,
                        "test": [
                          0.5524053046
                        ]
                      },
                      {
                        "learn": [
                          0.1795374817
                        ],
                        "iteration": 325,
                        "passed_time": 1.068614284,
                        "remaining_time": 0.570364679,
                        "test": [
                          0.5521482571
                        ]
                      },
                      {
                        "learn": [
                          0.1792085833
                        ],
                        "iteration": 326,
                        "passed_time": 1.077208426,
                        "remaining_time": 0.5698992588,
                        "test": [
                          0.5522777569
                        ]
                      },
                      {
                        "learn": [
                          0.1786151992
                        ],
                        "iteration": 327,
                        "passed_time": 1.081203029,
                        "remaining_time": 0.56697232,
                        "test": [
                          0.5515399369
                        ]
                      },
                      {
                        "learn": [
                          0.1777970393
                        ],
                        "iteration": 328,
                        "passed_time": 1.082375656,
                        "remaining_time": 0.5625721493,
                        "test": [
                          0.5522690898
                        ]
                      },
                      {
                        "learn": [
                          0.1775686079
                        ],
                        "iteration": 329,
                        "passed_time": 1.083897322,
                        "remaining_time": 0.5583713476,
                        "test": [
                          0.5523788669
                        ]
                      },
                      {
                        "learn": [
                          0.1771322886
                        ],
                        "iteration": 330,
                        "passed_time": 1.085141516,
                        "remaining_time": 0.5540450641,
                        "test": [
                          0.552960678
                        ]
                      },
                      {
                        "learn": [
                          0.1761449973
                        ],
                        "iteration": 331,
                        "passed_time": 1.086611008,
                        "remaining_time": 0.5498513535,
                        "test": [
                          0.5529370109
                        ]
                      },
                      {
                        "learn": [
                          0.1754649613
                        ],
                        "iteration": 332,
                        "passed_time": 1.087614344,
                        "remaining_time": 0.5454402264,
                        "test": [
                          0.5530094039
                        ]
                      },
                      {
                        "learn": [
                          0.1748078929
                        ],
                        "iteration": 333,
                        "passed_time": 1.096623786,
                        "remaining_time": 0.5450285883,
                        "test": [
                          0.5536846661
                        ]
                      },
                      {
                        "learn": [
                          0.1742929882
                        ],
                        "iteration": 334,
                        "passed_time": 1.098185329,
                        "remaining_time": 0.5408972514,
                        "test": [
                          0.5539026724
                        ]
                      },
                      {
                        "learn": [
                          0.1741263602
                        ],
                        "iteration": 335,
                        "passed_time": 1.099499083,
                        "remaining_time": 0.5366602666,
                        "test": [
                          0.5542569999
                        ]
                      },
                      {
                        "learn": [
                          0.1735528575
                        ],
                        "iteration": 336,
                        "passed_time": 1.100916752,
                        "remaining_time": 0.5324908917,
                        "test": [
                          0.5545652969
                        ]
                      },
                      {
                        "learn": [
                          0.1727106571
                        ],
                        "iteration": 337,
                        "passed_time": 1.105040999,
                        "remaining_time": 0.5296350352,
                        "test": [
                          0.5555158873
                        ]
                      },
                      {
                        "learn": [
                          0.1723376645
                        ],
                        "iteration": 338,
                        "passed_time": 1.106163863,
                        "remaining_time": 0.5253462596,
                        "test": [
                          0.5558484164
                        ]
                      },
                      {
                        "learn": [
                          0.1715153323
                        ],
                        "iteration": 339,
                        "passed_time": 1.107299339,
                        "remaining_time": 0.5210820419,
                        "test": [
                          0.5572694754
                        ]
                      },
                      {
                        "learn": [
                          0.1710335149
                        ],
                        "iteration": 340,
                        "passed_time": 1.108511204,
                        "remaining_time": 0.5168717932,
                        "test": [
                          0.5572351725
                        ]
                      },
                      {
                        "learn": [
                          0.1707162857
                        ],
                        "iteration": 341,
                        "passed_time": 1.110117829,
                        "remaining_time": 0.5128614534,
                        "test": [
                          0.5571035765
                        ]
                      },
                      {
                        "learn": [
                          0.1705112987
                        ],
                        "iteration": 342,
                        "passed_time": 1.111629698,
                        "remaining_time": 0.5088217566,
                        "test": [
                          0.5573363373
                        ]
                      },
                      {
                        "learn": [
                          0.1698520978
                        ],
                        "iteration": 343,
                        "passed_time": 1.113391532,
                        "remaining_time": 0.5049101133,
                        "test": [
                          0.5582327065
                        ]
                      },
                      {
                        "learn": [
                          0.1696433491
                        ],
                        "iteration": 344,
                        "passed_time": 1.114954572,
                        "remaining_time": 0.5009216194,
                        "test": [
                          0.558650689
                        ]
                      },
                      {
                        "learn": [
                          0.1691613727
                        ],
                        "iteration": 345,
                        "passed_time": 1.116224768,
                        "remaining_time": 0.4968168042,
                        "test": [
                          0.5599434816
                        ]
                      },
                      {
                        "learn": [
                          0.1685476568
                        ],
                        "iteration": 346,
                        "passed_time": 1.117344054,
                        "remaining_time": 0.4926617875,
                        "test": [
                          0.5611230796
                        ]
                      },
                      {
                        "learn": [
                          0.1682537662
                        ],
                        "iteration": 347,
                        "passed_time": 1.118340504,
                        "remaining_time": 0.4884705651,
                        "test": [
                          0.5603307208
                        ]
                      },
                      {
                        "learn": [
                          0.167809142
                        ],
                        "iteration": 348,
                        "passed_time": 1.119380833,
                        "remaining_time": 0.4843166355,
                        "test": [
                          0.5604037167
                        ]
                      },
                      {
                        "learn": [
                          0.1672954294
                        ],
                        "iteration": 349,
                        "passed_time": 1.120626172,
                        "remaining_time": 0.4802683596,
                        "test": [
                          0.5612259068
                        ]
                      },
                      {
                        "learn": [
                          0.1667175161
                        ],
                        "iteration": 350,
                        "passed_time": 1.121687998,
                        "remaining_time": 0.4761581532,
                        "test": [
                          0.5611201102
                        ]
                      },
                      {
                        "learn": [
                          0.1663958497
                        ],
                        "iteration": 351,
                        "passed_time": 1.123349648,
                        "remaining_time": 0.4723174656,
                        "test": [
                          0.5613078341
                        ]
                      },
                      {
                        "learn": [
                          0.1658585866
                        ],
                        "iteration": 352,
                        "passed_time": 1.124836802,
                        "remaining_time": 0.4684164585,
                        "test": [
                          0.5623605828
                        ]
                      },
                      {
                        "learn": [
                          0.1653067536
                        ],
                        "iteration": 353,
                        "passed_time": 1.130225131,
                        "remaining_time": 0.4661380485,
                        "test": [
                          0.5622573563
                        ]
                      },
                      {
                        "learn": [
                          0.1648531225
                        ],
                        "iteration": 354,
                        "passed_time": 1.131411703,
                        "remaining_time": 0.4621259068,
                        "test": [
                          0.5625484302
                        ]
                      },
                      {
                        "learn": [
                          0.1643426418
                        ],
                        "iteration": 355,
                        "passed_time": 1.132446828,
                        "remaining_time": 0.4580683801,
                        "test": [
                          0.5630194865
                        ]
                      },
                      {
                        "learn": [
                          0.164012644
                        ],
                        "iteration": 356,
                        "passed_time": 1.133454725,
                        "remaining_time": 0.4540168786,
                        "test": [
                          0.563184992
                        ]
                      },
                      {
                        "learn": [
                          0.1637513505
                        ],
                        "iteration": 357,
                        "passed_time": 1.134964388,
                        "remaining_time": 0.4501814052,
                        "test": [
                          0.5630831437
                        ]
                      },
                      {
                        "learn": [
                          0.1634287172
                        ],
                        "iteration": 358,
                        "passed_time": 1.136518548,
                        "remaining_time": 0.4463763656,
                        "test": [
                          0.5628228769
                        ]
                      },
                      {
                        "learn": [
                          0.1631304158
                        ],
                        "iteration": 359,
                        "passed_time": 1.1508775,
                        "remaining_time": 0.4475634723,
                        "test": [
                          0.563360986
                        ]
                      },
                      {
                        "learn": [
                          0.1626768377
                        ],
                        "iteration": 360,
                        "passed_time": 1.152566453,
                        "remaining_time": 0.443785975,
                        "test": [
                          0.563780361
                        ]
                      },
                      {
                        "learn": [
                          0.16251919
                        ],
                        "iteration": 361,
                        "passed_time": 1.154040072,
                        "remaining_time": 0.4399379281,
                        "test": [
                          0.5642135972
                        ]
                      },
                      {
                        "learn": [
                          0.1620955467
                        ],
                        "iteration": 362,
                        "passed_time": 1.155608452,
                        "remaining_time": 0.436138727,
                        "test": [
                          0.5648250393
                        ]
                      },
                      {
                        "learn": [
                          0.1613659991
                        ],
                        "iteration": 363,
                        "passed_time": 1.157218124,
                        "remaining_time": 0.4323672112,
                        "test": [
                          0.5651124739
                        ]
                      },
                      {
                        "learn": [
                          0.1611898078
                        ],
                        "iteration": 364,
                        "passed_time": 1.158849623,
                        "remaining_time": 0.428615614,
                        "test": [
                          0.5652140576
                        ]
                      },
                      {
                        "learn": [
                          0.161086811
                        ],
                        "iteration": 365,
                        "passed_time": 1.160446732,
                        "remaining_time": 0.424863011,
                        "test": [
                          0.5650146538
                        ]
                      },
                      {
                        "learn": [
                          0.1601593362
                        ],
                        "iteration": 366,
                        "passed_time": 1.161689462,
                        "remaining_time": 0.4209937288,
                        "test": [
                          0.565284261
                        ]
                      },
                      {
                        "learn": [
                          0.1600194507
                        ],
                        "iteration": 367,
                        "passed_time": 1.162785225,
                        "remaining_time": 0.4170860045,
                        "test": [
                          0.5651664611
                        ]
                      },
                      {
                        "learn": [
                          0.1598902014
                        ],
                        "iteration": 368,
                        "passed_time": 1.164161186,
                        "remaining_time": 0.4132929957,
                        "test": [
                          0.5653175429
                        ]
                      },
                      {
                        "learn": [
                          0.159221424
                        ],
                        "iteration": 369,
                        "passed_time": 1.165881791,
                        "remaining_time": 0.4096341427,
                        "test": [
                          0.565911075
                        ]
                      },
                      {
                        "learn": [
                          0.1589558787
                        ],
                        "iteration": 370,
                        "passed_time": 1.167035609,
                        "remaining_time": 0.4057886619,
                        "test": [
                          0.5657003527
                        ]
                      },
                      {
                        "learn": [
                          0.1587862306
                        ],
                        "iteration": 371,
                        "passed_time": 1.168068107,
                        "remaining_time": 0.4019159077,
                        "test": [
                          0.5655679237
                        ]
                      },
                      {
                        "learn": [
                          0.1583692763
                        ],
                        "iteration": 372,
                        "passed_time": 1.169802959,
                        "remaining_time": 0.3982975221,
                        "test": [
                          0.5662214307
                        ]
                      },
                      {
                        "learn": [
                          0.1581575606
                        ],
                        "iteration": 373,
                        "passed_time": 1.171276687,
                        "remaining_time": 0.3946012369,
                        "test": [
                          0.5662278996
                        ]
                      },
                      {
                        "learn": [
                          0.1580072774
                        ],
                        "iteration": 374,
                        "passed_time": 1.172884675,
                        "remaining_time": 0.3909615583,
                        "test": [
                          0.5662822322
                        ]
                      },
                      {
                        "learn": [
                          0.1577381028
                        ],
                        "iteration": 375,
                        "passed_time": 1.17405896,
                        "remaining_time": 0.3871896569,
                        "test": [
                          0.5660467323
                        ]
                      },
                      {
                        "learn": [
                          0.1575401624
                        ],
                        "iteration": 376,
                        "passed_time": 1.17520866,
                        "remaining_time": 0.3834235151,
                        "test": [
                          0.5660529399
                        ]
                      },
                      {
                        "learn": [
                          0.1573624876
                        ],
                        "iteration": 377,
                        "passed_time": 1.176610435,
                        "remaining_time": 0.3797525744,
                        "test": [
                          0.566294047
                        ]
                      },
                      {
                        "learn": [
                          0.1571531561
                        ],
                        "iteration": 378,
                        "passed_time": 1.178080246,
                        "remaining_time": 0.3761153293,
                        "test": [
                          0.5665060827
                        ]
                      },
                      {
                        "learn": [
                          0.1569564078
                        ],
                        "iteration": 379,
                        "passed_time": 1.179687529,
                        "remaining_time": 0.3725329039,
                        "test": [
                          0.5670687663
                        ]
                      },
                      {
                        "learn": [
                          0.1566239463
                        ],
                        "iteration": 380,
                        "passed_time": 1.181254974,
                        "remaining_time": 0.368948404,
                        "test": [
                          0.5676418372
                        ]
                      },
                      {
                        "learn": [
                          0.15640378
                        ],
                        "iteration": 381,
                        "passed_time": 1.18236123,
                        "remaining_time": 0.365232003,
                        "test": [
                          0.5671515692
                        ]
                      },
                      {
                        "learn": [
                          0.1554724375
                        ],
                        "iteration": 382,
                        "passed_time": 1.183343071,
                        "remaining_time": 0.3614912252,
                        "test": [
                          0.5668761382
                        ]
                      },
                      {
                        "learn": [
                          0.1551936335
                        ],
                        "iteration": 383,
                        "passed_time": 1.184928889,
                        "remaining_time": 0.3579472687,
                        "test": [
                          0.5673739579
                        ]
                      },
                      {
                        "learn": [
                          0.1548010508
                        ],
                        "iteration": 384,
                        "passed_time": 1.186282109,
                        "remaining_time": 0.3543440065,
                        "test": [
                          0.5683772589
                        ]
                      },
                      {
                        "learn": [
                          0.1539739238
                        ],
                        "iteration": 385,
                        "passed_time": 1.187962566,
                        "remaining_time": 0.3508490479,
                        "test": [
                          0.5692664577
                        ]
                      },
                      {
                        "learn": [
                          0.1538639334
                        ],
                        "iteration": 386,
                        "passed_time": 1.189241305,
                        "remaining_time": 0.3472461692,
                        "test": [
                          0.569038762
                        ]
                      },
                      {
                        "learn": [
                          0.1531712214
                        ],
                        "iteration": 387,
                        "passed_time": 1.190389816,
                        "remaining_time": 0.3436176789,
                        "test": [
                          0.5683987999
                        ]
                      },
                      {
                        "learn": [
                          0.1528935697
                        ],
                        "iteration": 388,
                        "passed_time": 1.191911011,
                        "remaining_time": 0.3401082834,
                        "test": [
                          0.5685909632
                        ]
                      },
                      {
                        "learn": [
                          0.1527139876
                        ],
                        "iteration": 389,
                        "passed_time": 1.193386096,
                        "remaining_time": 0.3365960784,
                        "test": [
                          0.5682799748
                        ]
                      },
                      {
                        "learn": [
                          0.1525686847
                        ],
                        "iteration": 390,
                        "passed_time": 1.194617575,
                        "remaining_time": 0.3330263827,
                        "test": [
                          0.5681159586
                        ]
                      },
                      {
                        "learn": [
                          0.1520660188
                        ],
                        "iteration": 391,
                        "passed_time": 1.195892085,
                        "remaining_time": 0.3294804723,
                        "test": [
                          0.5678837925
                        ]
                      },
                      {
                        "learn": [
                          0.1519073248
                        ],
                        "iteration": 392,
                        "passed_time": 1.205340849,
                        "remaining_time": 0.3281716817,
                        "test": [
                          0.5682210884
                        ]
                      },
                      {
                        "learn": [
                          0.1514406204
                        ],
                        "iteration": 393,
                        "passed_time": 1.206570736,
                        "remaining_time": 0.3246104012,
                        "test": [
                          0.5688795161
                        ]
                      },
                      {
                        "learn": [
                          0.15075069
                        ],
                        "iteration": 394,
                        "passed_time": 1.207726728,
                        "remaining_time": 0.321041282,
                        "test": [
                          0.5704808035
                        ]
                      },
                      {
                        "learn": [
                          0.150301973
                        ],
                        "iteration": 395,
                        "passed_time": 1.208916076,
                        "remaining_time": 0.317493111,
                        "test": [
                          0.5706141336
                        ]
                      },
                      {
                        "learn": [
                          0.1500477791
                        ],
                        "iteration": 396,
                        "passed_time": 1.21523499,
                        "remaining_time": 0.3152876673,
                        "test": [
                          0.5710822179
                        ]
                      },
                      {
                        "learn": [
                          0.1495681074
                        ],
                        "iteration": 397,
                        "passed_time": 1.216262601,
                        "remaining_time": 0.3117054906,
                        "test": [
                          0.5713211017
                        ]
                      },
                      {
                        "learn": [
                          0.1490229236
                        ],
                        "iteration": 398,
                        "passed_time": 1.217288098,
                        "remaining_time": 0.3081355837,
                        "test": [
                          0.5729621647
                        ]
                      },
                      {
                        "learn": [
                          0.148291813
                        ],
                        "iteration": 399,
                        "passed_time": 1.218311081,
                        "remaining_time": 0.3045777702,
                        "test": [
                          0.5724875525
                        ]
                      },
                      {
                        "learn": [
                          0.1476143599
                        ],
                        "iteration": 400,
                        "passed_time": 1.222934974,
                        "remaining_time": 0.3019216021,
                        "test": [
                          0.5718591805
                        ]
                      },
                      {
                        "learn": [
                          0.1474080351
                        ],
                        "iteration": 401,
                        "passed_time": 1.223982266,
                        "remaining_time": 0.2983837364,
                        "test": [
                          0.5721388526
                        ]
                      },
                      {
                        "learn": [
                          0.1468838851
                        ],
                        "iteration": 402,
                        "passed_time": 1.225100654,
                        "remaining_time": 0.2948753435,
                        "test": [
                          0.5717188086
                        ]
                      },
                      {
                        "learn": [
                          0.1461861663
                        ],
                        "iteration": 403,
                        "passed_time": 1.226202906,
                        "remaining_time": 0.291374948,
                        "test": [
                          0.5732305263
                        ]
                      },
                      {
                        "learn": [
                          0.1459089915
                        ],
                        "iteration": 404,
                        "passed_time": 1.227559541,
                        "remaining_time": 0.2879460651,
                        "test": [
                          0.5736521526
                        ]
                      },
                      {
                        "learn": [
                          0.1455139849
                        ],
                        "iteration": 405,
                        "passed_time": 1.228836864,
                        "remaining_time": 0.2845090276,
                        "test": [
                          0.5744679753
                        ]
                      },
                      {
                        "learn": [
                          0.1450613605
                        ],
                        "iteration": 406,
                        "passed_time": 1.229871054,
                        "remaining_time": 0.2810270467,
                        "test": [
                          0.5742390072
                        ]
                      },
                      {
                        "learn": [
                          0.1445580853
                        ],
                        "iteration": 407,
                        "passed_time": 1.231330653,
                        "remaining_time": 0.2776529904,
                        "test": [
                          0.574084147
                        ]
                      },
                      {
                        "learn": [
                          0.1443974972
                        ],
                        "iteration": 408,
                        "passed_time": 1.232625176,
                        "remaining_time": 0.2742515674,
                        "test": [
                          0.5742023662
                        ]
                      },
                      {
                        "learn": [
                          0.1443505287
                        ],
                        "iteration": 409,
                        "passed_time": 1.234320892,
                        "remaining_time": 0.2709484885,
                        "test": [
                          0.5742536136
                        ]
                      },
                      {
                        "learn": [
                          0.1438048151
                        ],
                        "iteration": 410,
                        "passed_time": 1.237577352,
                        "remaining_time": 0.2679912027,
                        "test": [
                          0.5753439941
                        ]
                      },
                      {
                        "learn": [
                          0.1435292032
                        ],
                        "iteration": 411,
                        "passed_time": 1.243365573,
                        "remaining_time": 0.2655732292,
                        "test": [
                          0.5753640217
                        ]
                      },
                      {
                        "learn": [
                          0.1433760855
                        ],
                        "iteration": 412,
                        "passed_time": 1.24597492,
                        "remaining_time": 0.262469293,
                        "test": [
                          0.5755773426
                        ]
                      },
                      {
                        "learn": [
                          0.1429522567
                        ],
                        "iteration": 413,
                        "passed_time": 1.250583736,
                        "remaining_time": 0.2597830949,
                        "test": [
                          0.5756046481
                        ]
                      },
                      {
                        "learn": [
                          0.1424180269
                        ],
                        "iteration": 414,
                        "passed_time": 1.254734959,
                        "remaining_time": 0.2569939073,
                        "test": [
                          0.5755912599
                        ]
                      },
                      {
                        "learn": [
                          0.1419882774
                        ],
                        "iteration": 415,
                        "passed_time": 1.259276066,
                        "remaining_time": 0.2542768979,
                        "test": [
                          0.5756444593
                        ]
                      },
                      {
                        "learn": [
                          0.1416980028
                        ],
                        "iteration": 416,
                        "passed_time": 1.2609139,
                        "remaining_time": 0.2509732702,
                        "test": [
                          0.5768459844
                        ]
                      },
                      {
                        "learn": [
                          0.141350362
                        ],
                        "iteration": 417,
                        "passed_time": 1.262557935,
                        "remaining_time": 0.2476788294,
                        "test": [
                          0.5772925421
                        ]
                      },
                      {
                        "learn": [
                          0.1411165926
                        ],
                        "iteration": 418,
                        "passed_time": 1.267320648,
                        "remaining_time": 0.2449951611,
                        "test": [
                          0.5774016732
                        ]
                      },
                      {
                        "learn": [
                          0.1408096419
                        ],
                        "iteration": 419,
                        "passed_time": 1.271068918,
                        "remaining_time": 0.2421083654,
                        "test": [
                          0.5780777731
                        ]
                      },
                      {
                        "learn": [
                          0.1404457092
                        ],
                        "iteration": 420,
                        "passed_time": 1.272819894,
                        "remaining_time": 0.2388426879,
                        "test": [
                          0.5790131957
                        ]
                      },
                      {
                        "learn": [
                          0.1400948233
                        ],
                        "iteration": 421,
                        "passed_time": 1.276371372,
                        "remaining_time": 0.2359169835,
                        "test": [
                          0.5794631528
                        ]
                      },
                      {
                        "learn": [
                          0.1398680475
                        ],
                        "iteration": 422,
                        "passed_time": 1.280632935,
                        "remaining_time": 0.2331175791,
                        "test": [
                          0.578804931
                        ]
                      },
                      {
                        "learn": [
                          0.1393332216
                        ],
                        "iteration": 423,
                        "passed_time": 1.282335241,
                        "remaining_time": 0.2298525432,
                        "test": [
                          0.5789556852
                        ]
                      },
                      {
                        "learn": [
                          0.1390984853
                        ],
                        "iteration": 424,
                        "passed_time": 1.284048786,
                        "remaining_time": 0.2265968446,
                        "test": [
                          0.5791365504
                        ]
                      },
                      {
                        "learn": [
                          0.1389254861
                        ],
                        "iteration": 425,
                        "passed_time": 1.289274258,
                        "remaining_time": 0.2239584391,
                        "test": [
                          0.579540639
                        ]
                      },
                      {
                        "learn": [
                          0.138737758
                        ],
                        "iteration": 426,
                        "passed_time": 1.290990143,
                        "remaining_time": 0.2207079167,
                        "test": [
                          0.5796302537
                        ]
                      },
                      {
                        "learn": [
                          0.1385290093
                        ],
                        "iteration": 427,
                        "passed_time": 1.292658408,
                        "remaining_time": 0.2174565546,
                        "test": [
                          0.5790147135
                        ]
                      },
                      {
                        "learn": [
                          0.1383701828
                        ],
                        "iteration": 428,
                        "passed_time": 1.297978451,
                        "remaining_time": 0.2148169464,
                        "test": [
                          0.5786302003
                        ]
                      },
                      {
                        "learn": [
                          0.1377453539
                        ],
                        "iteration": 429,
                        "passed_time": 1.299634941,
                        "remaining_time": 0.2115684788,
                        "test": [
                          0.5783346551
                        ]
                      },
                      {
                        "learn": [
                          0.1376145681
                        ],
                        "iteration": 430,
                        "passed_time": 1.301081993,
                        "remaining_time": 0.2082938689,
                        "test": [
                          0.5785524417
                        ]
                      },
                      {
                        "learn": [
                          0.1371814145
                        ],
                        "iteration": 431,
                        "passed_time": 1.304658005,
                        "remaining_time": 0.2053628341,
                        "test": [
                          0.5777857485
                        ]
                      },
                      {
                        "learn": [
                          0.136934042
                        ],
                        "iteration": 432,
                        "passed_time": 1.308619953,
                        "remaining_time": 0.2024885378,
                        "test": [
                          0.5770823112
                        ]
                      },
                      {
                        "learn": [
                          0.1365762684
                        ],
                        "iteration": 433,
                        "passed_time": 1.310152683,
                        "remaining_time": 0.1992398089,
                        "test": [
                          0.5775694501
                        ]
                      },
                      {
                        "learn": [
                          0.1363697582
                        ],
                        "iteration": 434,
                        "passed_time": 1.313863041,
                        "remaining_time": 0.1963243625,
                        "test": [
                          0.5773732408
                        ]
                      },
                      {
                        "learn": [
                          0.136057655
                        ],
                        "iteration": 435,
                        "passed_time": 1.319504038,
                        "remaining_time": 0.1936886661,
                        "test": [
                          0.5777389667
                        ]
                      },
                      {
                        "learn": [
                          0.1356605291
                        ],
                        "iteration": 436,
                        "passed_time": 1.32085499,
                        "remaining_time": 0.1904207422,
                        "test": [
                          0.5790998042
                        ]
                      },
                      {
                        "learn": [
                          0.1356232696
                        ],
                        "iteration": 437,
                        "passed_time": 1.322153272,
                        "remaining_time": 0.1871541161,
                        "test": [
                          0.5790835905
                        ]
                      },
                      {
                        "learn": [
                          0.1354242961
                        ],
                        "iteration": 438,
                        "passed_time": 1.328324511,
                        "remaining_time": 0.1845735654,
                        "test": [
                          0.5797357642
                        ]
                      },
                      {
                        "learn": [
                          0.1351008548
                        ],
                        "iteration": 439,
                        "passed_time": 1.32974734,
                        "remaining_time": 0.1813291827,
                        "test": [
                          0.5806695358
                        ]
                      },
                      {
                        "learn": [
                          0.134549525
                        ],
                        "iteration": 440,
                        "passed_time": 1.331076164,
                        "remaining_time": 0.1780804845,
                        "test": [
                          0.5815202247
                        ]
                      },
                      {
                        "learn": [
                          0.1343369484
                        ],
                        "iteration": 441,
                        "passed_time": 1.333772737,
                        "remaining_time": 0.1750199519,
                        "test": [
                          0.5811684117
                        ]
                      },
                      {
                        "learn": [
                          0.1337832477
                        ],
                        "iteration": 442,
                        "passed_time": 1.33827038,
                        "remaining_time": 0.1721928029,
                        "test": [
                          0.581595638
                        ]
                      },
                      {
                        "learn": [
                          0.1335008674
                        ],
                        "iteration": 443,
                        "passed_time": 1.339791729,
                        "remaining_time": 0.1689827406,
                        "test": [
                          0.5819362694
                        ]
                      },
                      {
                        "learn": [
                          0.1332689656
                        ],
                        "iteration": 444,
                        "passed_time": 1.341385686,
                        "remaining_time": 0.1657892421,
                        "test": [
                          0.5815585142
                        ]
                      },
                      {
                        "learn": [
                          0.1327593459
                        ],
                        "iteration": 445,
                        "passed_time": 1.347459929,
                        "remaining_time": 0.1631453725,
                        "test": [
                          0.5811219766
                        ]
                      },
                      {
                        "learn": [
                          0.1320003668
                        ],
                        "iteration": 446,
                        "passed_time": 1.351148436,
                        "remaining_time": 0.1602032821,
                        "test": [
                          0.5812205145
                        ]
                      },
                      {
                        "learn": [
                          0.1319193443
                        ],
                        "iteration": 447,
                        "passed_time": 1.35333912,
                        "remaining_time": 0.157084005,
                        "test": [
                          0.5813209563
                        ]
                      },
                      {
                        "learn": [
                          0.1316186322
                        ],
                        "iteration": 448,
                        "passed_time": 1.354877117,
                        "remaining_time": 0.1538947282,
                        "test": [
                          0.5815454632
                        ]
                      },
                      {
                        "learn": [
                          0.1311060058
                        ],
                        "iteration": 449,
                        "passed_time": 1.367307826,
                        "remaining_time": 0.1519230918,
                        "test": [
                          0.5823620125
                        ]
                      },
                      {
                        "learn": [
                          0.1307377021
                        ],
                        "iteration": 450,
                        "passed_time": 1.370815107,
                        "remaining_time": 0.1489355659,
                        "test": [
                          0.5826270753
                        ]
                      },
                      {
                        "learn": [
                          0.130414327
                        ],
                        "iteration": 451,
                        "passed_time": 1.372487261,
                        "remaining_time": 0.1457508596,
                        "test": [
                          0.5825361704
                        ]
                      },
                      {
                        "learn": [
                          0.1301271915
                        ],
                        "iteration": 452,
                        "passed_time": 1.374846766,
                        "remaining_time": 0.1426441457,
                        "test": [
                          0.5833589282
                        ]
                      },
                      {
                        "learn": [
                          0.1298584276
                        ],
                        "iteration": 453,
                        "passed_time": 1.379355483,
                        "remaining_time": 0.1397584851,
                        "test": [
                          0.5836749451
                        ]
                      },
                      {
                        "learn": [
                          0.1295908027
                        ],
                        "iteration": 454,
                        "passed_time": 1.380858211,
                        "remaining_time": 0.1365683945,
                        "test": [
                          0.584111817
                        ]
                      },
                      {
                        "learn": [
                          0.1290495661
                        ],
                        "iteration": 455,
                        "passed_time": 1.382458731,
                        "remaining_time": 0.1333951407,
                        "test": [
                          0.5842889171
                        ]
                      },
                      {
                        "learn": [
                          0.1285082102
                        ],
                        "iteration": 456,
                        "passed_time": 1.388460974,
                        "remaining_time": 0.1306429363,
                        "test": [
                          0.5852157097
                        ]
                      },
                      {
                        "learn": [
                          0.1280645265
                        ],
                        "iteration": 457,
                        "passed_time": 1.390096339,
                        "remaining_time": 0.1274760835,
                        "test": [
                          0.5858675945
                        ]
                      },
                      {
                        "learn": [
                          0.127890269
                        ],
                        "iteration": 458,
                        "passed_time": 1.391398683,
                        "remaining_time": 0.1242861569,
                        "test": [
                          0.5853190301
                        ]
                      },
                      {
                        "learn": [
                          0.1275758743
                        ],
                        "iteration": 459,
                        "passed_time": 1.394557443,
                        "remaining_time": 0.1212658646,
                        "test": [
                          0.5858833405
                        ]
                      },
                      {
                        "learn": [
                          0.1268482341
                        ],
                        "iteration": 460,
                        "passed_time": 1.398779461,
                        "remaining_time": 0.1183349219,
                        "test": [
                          0.5862458537
                        ]
                      },
                      {
                        "learn": [
                          0.1266283062
                        ],
                        "iteration": 461,
                        "passed_time": 1.402524852,
                        "remaining_time": 0.115359187,
                        "test": [
                          0.587245775
                        ]
                      },
                      {
                        "learn": [
                          0.1264749103
                        ],
                        "iteration": 462,
                        "passed_time": 1.404656275,
                        "remaining_time": 0.1122511494,
                        "test": [
                          0.5867244542
                        ]
                      },
                      {
                        "learn": [
                          0.126273844
                        ],
                        "iteration": 463,
                        "passed_time": 1.406276529,
                        "remaining_time": 0.1091076618,
                        "test": [
                          0.5869381477
                        ]
                      },
                      {
                        "learn": [
                          0.1258607043
                        ],
                        "iteration": 464,
                        "passed_time": 1.410513903,
                        "remaining_time": 0.1061677131,
                        "test": [
                          0.587252345
                        ]
                      },
                      {
                        "learn": [
                          0.1256899569
                        ],
                        "iteration": 465,
                        "passed_time": 1.413881104,
                        "remaining_time": 0.1031587072,
                        "test": [
                          0.5875857657
                        ]
                      },
                      {
                        "learn": [
                          0.12532213
                        ],
                        "iteration": 466,
                        "passed_time": 1.416730392,
                        "remaining_time": 0.1001115695,
                        "test": [
                          0.5875318057
                        ]
                      },
                      {
                        "learn": [
                          0.1250153383
                        ],
                        "iteration": 467,
                        "passed_time": 1.418103784,
                        "remaining_time": 0.09696436131,
                        "test": [
                          0.5880605463
                        ]
                      },
                      {
                        "learn": [
                          0.1249379582
                        ],
                        "iteration": 468,
                        "passed_time": 1.422300711,
                        "remaining_time": 0.09401134767,
                        "test": [
                          0.588273795
                        ]
                      },
                      {
                        "learn": [
                          0.1247297128
                        ],
                        "iteration": 469,
                        "passed_time": 1.424602063,
                        "remaining_time": 0.09093204659,
                        "test": [
                          0.5883828698
                        ]
                      },
                      {
                        "learn": [
                          0.1240693066
                        ],
                        "iteration": 470,
                        "passed_time": 1.426106965,
                        "remaining_time": 0.08780701055,
                        "test": [
                          0.5881135207
                        ]
                      },
                      {
                        "learn": [
                          0.1239216857
                        ],
                        "iteration": 471,
                        "passed_time": 1.430720387,
                        "remaining_time": 0.08487324327,
                        "test": [
                          0.5880845942
                        ]
                      },
                      {
                        "learn": [
                          0.1235646407
                        ],
                        "iteration": 472,
                        "passed_time": 1.432198108,
                        "remaining_time": 0.08175338036,
                        "test": [
                          0.5886586945
                        ]
                      },
                      {
                        "learn": [
                          0.1234285831
                        ],
                        "iteration": 473,
                        "passed_time": 1.433698973,
                        "remaining_time": 0.07864171584,
                        "test": [
                          0.589049762
                        ]
                      },
                      {
                        "learn": [
                          0.1228744719
                        ],
                        "iteration": 474,
                        "passed_time": 1.438913791,
                        "remaining_time": 0.07573230481,
                        "test": [
                          0.5895146247
                        ]
                      },
                      {
                        "learn": [
                          0.1227161884
                        ],
                        "iteration": 475,
                        "passed_time": 1.44142483,
                        "remaining_time": 0.07267688219,
                        "test": [
                          0.5896187841
                        ]
                      },
                      {
                        "learn": [
                          0.1226108074
                        ],
                        "iteration": 476,
                        "passed_time": 1.4431109,
                        "remaining_time": 0.06958396373,
                        "test": [
                          0.5895197635
                        ]
                      },
                      {
                        "learn": [
                          0.1220873197
                        ],
                        "iteration": 477,
                        "passed_time": 1.446877038,
                        "remaining_time": 0.06659266702,
                        "test": [
                          0.5903967277
                        ]
                      },
                      {
                        "learn": [
                          0.1219587061
                        ],
                        "iteration": 478,
                        "passed_time": 1.450700495,
                        "remaining_time": 0.06360064803,
                        "test": [
                          0.5908134094
                        ]
                      },
                      {
                        "learn": [
                          0.1218473911
                        ],
                        "iteration": 479,
                        "passed_time": 1.452252678,
                        "remaining_time": 0.06051052824,
                        "test": [
                          0.5905457614
                        ]
                      },
                      {
                        "learn": [
                          0.1213729382
                        ],
                        "iteration": 480,
                        "passed_time": 1.453627734,
                        "remaining_time": 0.05741980656,
                        "test": [
                          0.5910440985
                        ]
                      },
                      {
                        "learn": [
                          0.1206973394
                        ],
                        "iteration": 481,
                        "passed_time": 1.45910171,
                        "remaining_time": 0.05448927547,
                        "test": [
                          0.5910337468
                        ]
                      },
                      {
                        "learn": [
                          0.120576779
                        ],
                        "iteration": 482,
                        "passed_time": 1.460599051,
                        "remaining_time": 0.05140824817,
                        "test": [
                          0.5910780469
                        ]
                      },
                      {
                        "learn": [
                          0.1201823552
                        ],
                        "iteration": 483,
                        "passed_time": 1.4621682,
                        "remaining_time": 0.04833613886,
                        "test": [
                          0.591570542
                        ]
                      },
                      {
                        "learn": [
                          0.119644973
                        ],
                        "iteration": 484,
                        "passed_time": 1.466185253,
                        "remaining_time": 0.04534593567,
                        "test": [
                          0.5910745791
                        ]
                      },
                      {
                        "learn": [
                          0.119506518
                        ],
                        "iteration": 485,
                        "passed_time": 1.469932469,
                        "remaining_time": 0.04234373369,
                        "test": [
                          0.5912581204
                        ]
                      },
                      {
                        "learn": [
                          0.1190503438
                        ],
                        "iteration": 486,
                        "passed_time": 1.471638429,
                        "remaining_time": 0.0392839827,
                        "test": [
                          0.5921551108
                        ]
                      },
                      {
                        "learn": [
                          0.118910869
                        ],
                        "iteration": 487,
                        "passed_time": 1.474151998,
                        "remaining_time": 0.03624963928,
                        "test": [
                          0.5925514521
                        ]
                      },
                      {
                        "learn": [
                          0.1182848612
                        ],
                        "iteration": 488,
                        "passed_time": 1.47884213,
                        "remaining_time": 0.03326638738,
                        "test": [
                          0.5930799772
                        ]
                      },
                      {
                        "learn": [
                          0.1180788411
                        ],
                        "iteration": 489,
                        "passed_time": 1.480157417,
                        "remaining_time": 0.03020729423,
                        "test": [
                          0.5934061765
                        ]
                      },
                      {
                        "learn": [
                          0.1180361112
                        ],
                        "iteration": 490,
                        "passed_time": 1.481614794,
                        "remaining_time": 0.02715790866,
                        "test": [
                          0.5934902205
                        ]
                      },
                      {
                        "learn": [
                          0.1178031762
                        ],
                        "iteration": 491,
                        "passed_time": 1.485248764,
                        "remaining_time": 0.02415038641,
                        "test": [
                          0.5941080724
                        ]
                      },
                      {
                        "learn": [
                          0.1177872287
                        ],
                        "iteration": 492,
                        "passed_time": 1.489027253,
                        "remaining_time": 0.02114237479,
                        "test": [
                          0.5941080532
                        ]
                      },
                      {
                        "learn": [
                          0.1176726553
                        ],
                        "iteration": 493,
                        "passed_time": 1.49053285,
                        "remaining_time": 0.01810363785,
                        "test": [
                          0.5940606866
                        ]
                      },
                      {
                        "learn": [
                          0.1172136201
                        ],
                        "iteration": 494,
                        "passed_time": 1.492057497,
                        "remaining_time": 0.01507128785,
                        "test": [
                          0.59447353
                        ]
                      },
                      {
                        "learn": [
                          0.1170993116
                        ],
                        "iteration": 495,
                        "passed_time": 1.497354188,
                        "remaining_time": 0.012075437,
                        "test": [
                          0.5942838381
                        ]
                      },
                      {
                        "learn": [
                          0.1164147589
                        ],
                        "iteration": 496,
                        "passed_time": 1.499706344,
                        "remaining_time": 0.009052553386,
                        "test": [
                          0.5938188697
                        ]
                      },
                      {
                        "learn": [
                          0.1163208087
                        ],
                        "iteration": 497,
                        "passed_time": 1.501209383,
                        "remaining_time": 0.006028953346,
                        "test": [
                          0.5940271733
                        ]
                      },
                      {
                        "learn": [
                          0.1158879598
                        ],
                        "iteration": 498,
                        "passed_time": 1.505746659,
                        "remaining_time": 0.003017528375,
                        "test": [
                          0.5949173435
                        ]
                      },
                      {
                        "learn": [
                          0.1155312591
                        ],
                        "iteration": 499,
                        "passed_time": 1.50911474,
                        "remaining_time": 0,
                        "test": [
                          0.5956347711
                        ]
                      }
                    ],
                    "meta": {
                      "test_sets": [
                        "test"
                      ],
                      "test_metrics": [
                        {
                          "best_value": "Min",
                          "name": "Logloss"
                        }
                      ],
                      "learn_metrics": [
                        {
                          "best_value": "Min",
                          "name": "Logloss"
                        }
                      ],
                      "launch_mode": "Train",
                      "parameters": "",
                      "iteration_count": 500,
                      "learn_sets": [
                        "learn"
                      ],
                      "name": "experiment"
                    }
                  }
                }
              }
            },
            "layout": "IPY_MODEL_2a4fa3516fa14e5dbf3126a7c1092427"
          }
        }
      }
    }
  },
  "nbformat": 4,
  "nbformat_minor": 0
}